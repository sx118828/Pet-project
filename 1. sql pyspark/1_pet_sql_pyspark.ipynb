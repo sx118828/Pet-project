{
  "nbformat": 4,
  "nbformat_minor": 0,
  "metadata": {
    "colab": {
      "provenance": []
    },
    "kernelspec": {
      "name": "python3",
      "display_name": "Python 3"
    },
    "language_info": {
      "name": "python"
    }
  },
  "cells": [
    {
      "cell_type": "markdown",
      "source": [
        "## Загрузка библиотек, данных"
      ],
      "metadata": {
        "id": "cNg7Xsl3cCio"
      }
    },
    {
      "cell_type": "code",
      "source": [
        "!pip install -U -q PyDrive\n",
        "!pip install pyspark"
      ],
      "metadata": {
        "colab": {
          "base_uri": "https://localhost:8080/"
        },
        "id": "NnsAf_JCcDTM",
        "outputId": "ab39a11a-980e-442b-a9a6-01b0eaf08844"
      },
      "execution_count": null,
      "outputs": [
        {
          "output_type": "stream",
          "name": "stdout",
          "text": [
            "Looking in indexes: https://pypi.org/simple, https://us-python.pkg.dev/colab-wheels/public/simple/\n",
            "Requirement already satisfied: pyspark in /usr/local/lib/python3.8/dist-packages (3.3.1)\n",
            "Requirement already satisfied: py4j==0.10.9.5 in /usr/local/lib/python3.8/dist-packages (from pyspark) (0.10.9.5)\n"
          ]
        }
      ]
    },
    {
      "cell_type": "code",
      "source": [
        "import numpy as np\n",
        "import pandas as pd\n",
        "\n",
        "from google.colab import drive\n",
        "from google.colab import files\n",
        "import os"
      ],
      "metadata": {
        "id": "JZdaMXqxcInb"
      },
      "execution_count": null,
      "outputs": []
    },
    {
      "cell_type": "code",
      "source": [
        "from pyspark.sql import SparkSession\n",
        "spark = SparkSession \\\n",
        ".builder \\\n",
        ".appName(\"Python Spark SQL basic example\") \\\n",
        ".config(\"spark.some.config.option\", \"some-value\") \\\n",
        ".getOrCreate()"
      ],
      "metadata": {
        "id": "6qGQJo34cWka"
      },
      "execution_count": null,
      "outputs": []
    },
    {
      "cell_type": "code",
      "source": [
        "# просмотр, где находится каталог с файлами на COLAB\n",
        "drive.mount('/content/drive')"
      ],
      "metadata": {
        "colab": {
          "base_uri": "https://localhost:8080/"
        },
        "id": "HgkEsn09ccE0",
        "outputId": "67d5b56e-e6e3-427c-bf55-7333304631bf"
      },
      "execution_count": null,
      "outputs": [
        {
          "output_type": "stream",
          "name": "stdout",
          "text": [
            "Drive already mounted at /content/drive; to attempt to forcibly remount, call drive.mount(\"/content/drive\", force_remount=True).\n"
          ]
        }
      ]
    },
    {
      "cell_type": "markdown",
      "source": [
        "## Предобработка данных"
      ],
      "metadata": {
        "id": "vlICC6cUbxqh"
      }
    },
    {
      "cell_type": "markdown",
      "source": [
        "### viols"
      ],
      "metadata": {
        "id": "I2vqMQFPWFxN"
      }
    },
    {
      "cell_type": "code",
      "source": [
        "data_viols = pd.read_excel('/content/drive/My Drive/Colab Notebooks/viols.xlsx')"
      ],
      "metadata": {
        "id": "PFqYoz-CnOlg"
      },
      "execution_count": null,
      "outputs": []
    },
    {
      "cell_type": "code",
      "source": [
        "data_viols"
      ],
      "metadata": {
        "colab": {
          "base_uri": "https://localhost:8080/",
          "height": 332
        },
        "id": "ZNas0JntncCG",
        "outputId": "371c80db-2668-4b29-f29f-cd4ec35c3e85"
      },
      "execution_count": null,
      "outputs": [
        {
          "output_type": "execute_result",
          "data": {
            "text/plain": [
              "   tr_viol_id    viol_code    time_check    stage_code    refuse_code   \\\n",
              "0   12147483648          1212   2018-04-01             1             1   \n",
              "1   12147483649           129   2018-04-02             0             0   \n",
              "2   12147483650          1212   2018-04-03             1             0   \n",
              "3   12147483651           129   2018-04-04             0             1   \n",
              "4   12147483652          1212   2018-04-05             0             1   \n",
              "5   12147483653          1212   2018-04-06             0             1   \n",
              "6   12147483654           129   2018-04-21             1             0   \n",
              "7   12147483655           129   2018-04-22             1             0   \n",
              "8   12147483656           129   2018-04-23             1             2   \n",
              "\n",
              "   camera_id     \n",
              "0             1  \n",
              "1             2  \n",
              "2             3  \n",
              "3             4  \n",
              "4             5  \n",
              "5             6  \n",
              "6             7  \n",
              "7             8  \n",
              "8             9  "
            ],
            "text/html": [
              "\n",
              "  <div id=\"df-7f0c3328-9071-41c0-b1f7-57068e74de39\">\n",
              "    <div class=\"colab-df-container\">\n",
              "      <div>\n",
              "<style scoped>\n",
              "    .dataframe tbody tr th:only-of-type {\n",
              "        vertical-align: middle;\n",
              "    }\n",
              "\n",
              "    .dataframe tbody tr th {\n",
              "        vertical-align: top;\n",
              "    }\n",
              "\n",
              "    .dataframe thead th {\n",
              "        text-align: right;\n",
              "    }\n",
              "</style>\n",
              "<table border=\"1\" class=\"dataframe\">\n",
              "  <thead>\n",
              "    <tr style=\"text-align: right;\">\n",
              "      <th></th>\n",
              "      <th>tr_viol_id</th>\n",
              "      <th>viol_code</th>\n",
              "      <th>time_check</th>\n",
              "      <th>stage_code</th>\n",
              "      <th>refuse_code</th>\n",
              "      <th>camera_id</th>\n",
              "    </tr>\n",
              "  </thead>\n",
              "  <tbody>\n",
              "    <tr>\n",
              "      <th>0</th>\n",
              "      <td>12147483648</td>\n",
              "      <td>1212</td>\n",
              "      <td>2018-04-01</td>\n",
              "      <td>1</td>\n",
              "      <td>1</td>\n",
              "      <td>1</td>\n",
              "    </tr>\n",
              "    <tr>\n",
              "      <th>1</th>\n",
              "      <td>12147483649</td>\n",
              "      <td>129</td>\n",
              "      <td>2018-04-02</td>\n",
              "      <td>0</td>\n",
              "      <td>0</td>\n",
              "      <td>2</td>\n",
              "    </tr>\n",
              "    <tr>\n",
              "      <th>2</th>\n",
              "      <td>12147483650</td>\n",
              "      <td>1212</td>\n",
              "      <td>2018-04-03</td>\n",
              "      <td>1</td>\n",
              "      <td>0</td>\n",
              "      <td>3</td>\n",
              "    </tr>\n",
              "    <tr>\n",
              "      <th>3</th>\n",
              "      <td>12147483651</td>\n",
              "      <td>129</td>\n",
              "      <td>2018-04-04</td>\n",
              "      <td>0</td>\n",
              "      <td>1</td>\n",
              "      <td>4</td>\n",
              "    </tr>\n",
              "    <tr>\n",
              "      <th>4</th>\n",
              "      <td>12147483652</td>\n",
              "      <td>1212</td>\n",
              "      <td>2018-04-05</td>\n",
              "      <td>0</td>\n",
              "      <td>1</td>\n",
              "      <td>5</td>\n",
              "    </tr>\n",
              "    <tr>\n",
              "      <th>5</th>\n",
              "      <td>12147483653</td>\n",
              "      <td>1212</td>\n",
              "      <td>2018-04-06</td>\n",
              "      <td>0</td>\n",
              "      <td>1</td>\n",
              "      <td>6</td>\n",
              "    </tr>\n",
              "    <tr>\n",
              "      <th>6</th>\n",
              "      <td>12147483654</td>\n",
              "      <td>129</td>\n",
              "      <td>2018-04-21</td>\n",
              "      <td>1</td>\n",
              "      <td>0</td>\n",
              "      <td>7</td>\n",
              "    </tr>\n",
              "    <tr>\n",
              "      <th>7</th>\n",
              "      <td>12147483655</td>\n",
              "      <td>129</td>\n",
              "      <td>2018-04-22</td>\n",
              "      <td>1</td>\n",
              "      <td>0</td>\n",
              "      <td>8</td>\n",
              "    </tr>\n",
              "    <tr>\n",
              "      <th>8</th>\n",
              "      <td>12147483656</td>\n",
              "      <td>129</td>\n",
              "      <td>2018-04-23</td>\n",
              "      <td>1</td>\n",
              "      <td>2</td>\n",
              "      <td>9</td>\n",
              "    </tr>\n",
              "  </tbody>\n",
              "</table>\n",
              "</div>\n",
              "      <button class=\"colab-df-convert\" onclick=\"convertToInteractive('df-7f0c3328-9071-41c0-b1f7-57068e74de39')\"\n",
              "              title=\"Convert this dataframe to an interactive table.\"\n",
              "              style=\"display:none;\">\n",
              "        \n",
              "  <svg xmlns=\"http://www.w3.org/2000/svg\" height=\"24px\"viewBox=\"0 0 24 24\"\n",
              "       width=\"24px\">\n",
              "    <path d=\"M0 0h24v24H0V0z\" fill=\"none\"/>\n",
              "    <path d=\"M18.56 5.44l.94 2.06.94-2.06 2.06-.94-2.06-.94-.94-2.06-.94 2.06-2.06.94zm-11 1L8.5 8.5l.94-2.06 2.06-.94-2.06-.94L8.5 2.5l-.94 2.06-2.06.94zm10 10l.94 2.06.94-2.06 2.06-.94-2.06-.94-.94-2.06-.94 2.06-2.06.94z\"/><path d=\"M17.41 7.96l-1.37-1.37c-.4-.4-.92-.59-1.43-.59-.52 0-1.04.2-1.43.59L10.3 9.45l-7.72 7.72c-.78.78-.78 2.05 0 2.83L4 21.41c.39.39.9.59 1.41.59.51 0 1.02-.2 1.41-.59l7.78-7.78 2.81-2.81c.8-.78.8-2.07 0-2.86zM5.41 20L4 18.59l7.72-7.72 1.47 1.35L5.41 20z\"/>\n",
              "  </svg>\n",
              "      </button>\n",
              "      \n",
              "  <style>\n",
              "    .colab-df-container {\n",
              "      display:flex;\n",
              "      flex-wrap:wrap;\n",
              "      gap: 12px;\n",
              "    }\n",
              "\n",
              "    .colab-df-convert {\n",
              "      background-color: #E8F0FE;\n",
              "      border: none;\n",
              "      border-radius: 50%;\n",
              "      cursor: pointer;\n",
              "      display: none;\n",
              "      fill: #1967D2;\n",
              "      height: 32px;\n",
              "      padding: 0 0 0 0;\n",
              "      width: 32px;\n",
              "    }\n",
              "\n",
              "    .colab-df-convert:hover {\n",
              "      background-color: #E2EBFA;\n",
              "      box-shadow: 0px 1px 2px rgba(60, 64, 67, 0.3), 0px 1px 3px 1px rgba(60, 64, 67, 0.15);\n",
              "      fill: #174EA6;\n",
              "    }\n",
              "\n",
              "    [theme=dark] .colab-df-convert {\n",
              "      background-color: #3B4455;\n",
              "      fill: #D2E3FC;\n",
              "    }\n",
              "\n",
              "    [theme=dark] .colab-df-convert:hover {\n",
              "      background-color: #434B5C;\n",
              "      box-shadow: 0px 1px 3px 1px rgba(0, 0, 0, 0.15);\n",
              "      filter: drop-shadow(0px 1px 2px rgba(0, 0, 0, 0.3));\n",
              "      fill: #FFFFFF;\n",
              "    }\n",
              "  </style>\n",
              "\n",
              "      <script>\n",
              "        const buttonEl =\n",
              "          document.querySelector('#df-7f0c3328-9071-41c0-b1f7-57068e74de39 button.colab-df-convert');\n",
              "        buttonEl.style.display =\n",
              "          google.colab.kernel.accessAllowed ? 'block' : 'none';\n",
              "\n",
              "        async function convertToInteractive(key) {\n",
              "          const element = document.querySelector('#df-7f0c3328-9071-41c0-b1f7-57068e74de39');\n",
              "          const dataTable =\n",
              "            await google.colab.kernel.invokeFunction('convertToInteractive',\n",
              "                                                     [key], {});\n",
              "          if (!dataTable) return;\n",
              "\n",
              "          const docLinkHtml = 'Like what you see? Visit the ' +\n",
              "            '<a target=\"_blank\" href=https://colab.research.google.com/notebooks/data_table.ipynb>data table notebook</a>'\n",
              "            + ' to learn more about interactive tables.';\n",
              "          element.innerHTML = '';\n",
              "          dataTable['output_type'] = 'display_data';\n",
              "          await google.colab.output.renderOutput(dataTable, element);\n",
              "          const docLink = document.createElement('div');\n",
              "          docLink.innerHTML = docLinkHtml;\n",
              "          element.appendChild(docLink);\n",
              "        }\n",
              "      </script>\n",
              "    </div>\n",
              "  </div>\n",
              "  "
            ]
          },
          "metadata": {},
          "execution_count": 92
        }
      ]
    },
    {
      "cell_type": "code",
      "source": [
        "data_viols.info()"
      ],
      "metadata": {
        "colab": {
          "base_uri": "https://localhost:8080/"
        },
        "id": "ohO3prtVP8lw",
        "outputId": "f7370651-aec9-4199-f19f-a6601b1a1644"
      },
      "execution_count": null,
      "outputs": [
        {
          "output_type": "stream",
          "name": "stdout",
          "text": [
            "<class 'pandas.core.frame.DataFrame'>\n",
            "RangeIndex: 9 entries, 0 to 8\n",
            "Data columns (total 6 columns):\n",
            " #   Column        Non-Null Count  Dtype         \n",
            "---  ------        --------------  -----         \n",
            " 0   tr_viol_id    9 non-null      int64         \n",
            " 1   viol_code     9 non-null      int64         \n",
            " 2   time_check    9 non-null      datetime64[ns]\n",
            " 3   stage_code    9 non-null      int64         \n",
            " 4   refuse_code   9 non-null      int64         \n",
            " 5   camera_id     9 non-null      int64         \n",
            "dtypes: datetime64[ns](1), int64(5)\n",
            "memory usage: 560.0 bytes\n"
          ]
        }
      ]
    },
    {
      "cell_type": "code",
      "source": [
        "data_viols.columns\n"
      ],
      "metadata": {
        "colab": {
          "base_uri": "https://localhost:8080/"
        },
        "id": "cTzh-DxjQeBZ",
        "outputId": "f7c517c0-4f38-49cf-9a50-b1fcf0b4d590"
      },
      "execution_count": null,
      "outputs": [
        {
          "output_type": "execute_result",
          "data": {
            "text/plain": [
              "Index(['tr_viol_id  ', 'viol_code   ', 'time_check  ', 'stage_code  ',\n",
              "       'refuse_code ', 'camera_id   '],\n",
              "      dtype='object')"
            ]
          },
          "metadata": {},
          "execution_count": 94
        }
      ]
    },
    {
      "cell_type": "code",
      "source": [
        "data_viols.rename(columns = {'tr_viol_id  ':'tr_viol_id',\n",
        "                     'viol_code   ':'viol_code',\n",
        "                     'time_check  ':'time_check',\n",
        "                     'stage_code  ':'stage_code',\n",
        "                     'refuse_code ':'refuse_code',\n",
        "                     'camera_id   ':'camera_id'}, inplace = True )"
      ],
      "metadata": {
        "id": "s7XBlVsjQ02m"
      },
      "execution_count": null,
      "outputs": []
    },
    {
      "cell_type": "code",
      "source": [
        "data_viols.columns"
      ],
      "metadata": {
        "colab": {
          "base_uri": "https://localhost:8080/"
        },
        "id": "2OVein8ER5YX",
        "outputId": "41033510-fc48-40ff-dca5-e0b0842375ab"
      },
      "execution_count": null,
      "outputs": [
        {
          "output_type": "execute_result",
          "data": {
            "text/plain": [
              "Index(['tr_viol_id', 'viol_code', 'time_check', 'stage_code', 'refuse_code',\n",
              "       'camera_id'],\n",
              "      dtype='object')"
            ]
          },
          "metadata": {},
          "execution_count": 96
        }
      ]
    },
    {
      "cell_type": "code",
      "source": [
        "#переведем столбец с датой в формат даты и времени\n",
        "data_viols['time_check'] = pd.to_datetime(data_viols['time_check'], format = '%Y-%m-%d %H:%M:%S')"
      ],
      "metadata": {
        "id": "wcIK7UKYR_s2"
      },
      "execution_count": null,
      "outputs": []
    },
    {
      "cell_type": "code",
      "source": [
        "data_viols.info()"
      ],
      "metadata": {
        "colab": {
          "base_uri": "https://localhost:8080/"
        },
        "id": "1nEPazRWSOFu",
        "outputId": "fdf26ead-4bb5-4f0b-a3a3-2c305e79d31b"
      },
      "execution_count": null,
      "outputs": [
        {
          "output_type": "stream",
          "name": "stdout",
          "text": [
            "<class 'pandas.core.frame.DataFrame'>\n",
            "RangeIndex: 9 entries, 0 to 8\n",
            "Data columns (total 6 columns):\n",
            " #   Column       Non-Null Count  Dtype         \n",
            "---  ------       --------------  -----         \n",
            " 0   tr_viol_id   9 non-null      int64         \n",
            " 1   viol_code    9 non-null      int64         \n",
            " 2   time_check   9 non-null      datetime64[ns]\n",
            " 3   stage_code   9 non-null      int64         \n",
            " 4   refuse_code  9 non-null      int64         \n",
            " 5   camera_id    9 non-null      int64         \n",
            "dtypes: datetime64[ns](1), int64(5)\n",
            "memory usage: 560.0 bytes\n"
          ]
        }
      ]
    },
    {
      "cell_type": "code",
      "source": [
        "viols = data_viols.to_csv('viols.csv')"
      ],
      "metadata": {
        "id": "e0k_X0-YS4ZP"
      },
      "execution_count": null,
      "outputs": []
    },
    {
      "cell_type": "markdown",
      "source": [
        "### opers"
      ],
      "metadata": {
        "id": "HGJW7SNAWRFG"
      }
    },
    {
      "cell_type": "code",
      "source": [
        "data_opers = pd.read_excel('/content/drive/My Drive/Colab Notebooks/opers.xlsx')"
      ],
      "metadata": {
        "id": "RBkJmWr6pjR9"
      },
      "execution_count": null,
      "outputs": []
    },
    {
      "cell_type": "code",
      "source": [
        "data_opers"
      ],
      "metadata": {
        "colab": {
          "base_uri": "https://localhost:8080/",
          "height": 332
        },
        "id": "i7VF5u-uW5uD",
        "outputId": "273cebc5-243f-47ef-d965-8648c9712dd3"
      },
      "execution_count": null,
      "outputs": [
        {
          "output_type": "execute_result",
          "data": {
            "text/plain": [
              "   viol_oper_id  tr_viol_id         oper_code          refuse_code        \\\n",
              "0   22147483648        12147483648                 29                  1   \n",
              "1   22147483649        12147483649                 31                  0   \n",
              "2   22147483650        12147483650                 29                  0   \n",
              "3   22147483651        12147483651                 29                  1   \n",
              "4   22147483652        12147483652                 31                  1   \n",
              "5   22147483653        12147483653                 31                  1   \n",
              "6   22147483654        12147483654                 31                  0   \n",
              "7   22147483655        12147483655                 29                  0   \n",
              "8   22147483656        12147483656                 29                  2   \n",
              "\n",
              "   isp_id            date_oper         viol_datetime      \n",
              "0         2147483648        2018-04-01        2018-04-01  \n",
              "1         2147483649        2018-04-02        2018-04-02  \n",
              "2         2147483650        2018-04-03        2018-04-03  \n",
              "3         2147483651        2018-04-04        2018-04-04  \n",
              "4         2147483652        2018-04-05        2018-04-05  \n",
              "5         2147483653        2018-04-06        2018-04-06  \n",
              "6         2147483654        2018-07-21        2018-04-21  \n",
              "7         2147483655        2018-04-22        2018-04-22  \n",
              "8         2147483656        2018-04-23        2018-04-23  "
            ],
            "text/html": [
              "\n",
              "  <div id=\"df-27c14e16-bfbf-427f-962e-a8b6ea505c21\">\n",
              "    <div class=\"colab-df-container\">\n",
              "      <div>\n",
              "<style scoped>\n",
              "    .dataframe tbody tr th:only-of-type {\n",
              "        vertical-align: middle;\n",
              "    }\n",
              "\n",
              "    .dataframe tbody tr th {\n",
              "        vertical-align: top;\n",
              "    }\n",
              "\n",
              "    .dataframe thead th {\n",
              "        text-align: right;\n",
              "    }\n",
              "</style>\n",
              "<table border=\"1\" class=\"dataframe\">\n",
              "  <thead>\n",
              "    <tr style=\"text-align: right;\">\n",
              "      <th></th>\n",
              "      <th>viol_oper_id</th>\n",
              "      <th>tr_viol_id</th>\n",
              "      <th>oper_code</th>\n",
              "      <th>refuse_code</th>\n",
              "      <th>isp_id</th>\n",
              "      <th>date_oper</th>\n",
              "      <th>viol_datetime</th>\n",
              "    </tr>\n",
              "  </thead>\n",
              "  <tbody>\n",
              "    <tr>\n",
              "      <th>0</th>\n",
              "      <td>22147483648</td>\n",
              "      <td>12147483648</td>\n",
              "      <td>29</td>\n",
              "      <td>1</td>\n",
              "      <td>2147483648</td>\n",
              "      <td>2018-04-01</td>\n",
              "      <td>2018-04-01</td>\n",
              "    </tr>\n",
              "    <tr>\n",
              "      <th>1</th>\n",
              "      <td>22147483649</td>\n",
              "      <td>12147483649</td>\n",
              "      <td>31</td>\n",
              "      <td>0</td>\n",
              "      <td>2147483649</td>\n",
              "      <td>2018-04-02</td>\n",
              "      <td>2018-04-02</td>\n",
              "    </tr>\n",
              "    <tr>\n",
              "      <th>2</th>\n",
              "      <td>22147483650</td>\n",
              "      <td>12147483650</td>\n",
              "      <td>29</td>\n",
              "      <td>0</td>\n",
              "      <td>2147483650</td>\n",
              "      <td>2018-04-03</td>\n",
              "      <td>2018-04-03</td>\n",
              "    </tr>\n",
              "    <tr>\n",
              "      <th>3</th>\n",
              "      <td>22147483651</td>\n",
              "      <td>12147483651</td>\n",
              "      <td>29</td>\n",
              "      <td>1</td>\n",
              "      <td>2147483651</td>\n",
              "      <td>2018-04-04</td>\n",
              "      <td>2018-04-04</td>\n",
              "    </tr>\n",
              "    <tr>\n",
              "      <th>4</th>\n",
              "      <td>22147483652</td>\n",
              "      <td>12147483652</td>\n",
              "      <td>31</td>\n",
              "      <td>1</td>\n",
              "      <td>2147483652</td>\n",
              "      <td>2018-04-05</td>\n",
              "      <td>2018-04-05</td>\n",
              "    </tr>\n",
              "    <tr>\n",
              "      <th>5</th>\n",
              "      <td>22147483653</td>\n",
              "      <td>12147483653</td>\n",
              "      <td>31</td>\n",
              "      <td>1</td>\n",
              "      <td>2147483653</td>\n",
              "      <td>2018-04-06</td>\n",
              "      <td>2018-04-06</td>\n",
              "    </tr>\n",
              "    <tr>\n",
              "      <th>6</th>\n",
              "      <td>22147483654</td>\n",
              "      <td>12147483654</td>\n",
              "      <td>31</td>\n",
              "      <td>0</td>\n",
              "      <td>2147483654</td>\n",
              "      <td>2018-07-21</td>\n",
              "      <td>2018-04-21</td>\n",
              "    </tr>\n",
              "    <tr>\n",
              "      <th>7</th>\n",
              "      <td>22147483655</td>\n",
              "      <td>12147483655</td>\n",
              "      <td>29</td>\n",
              "      <td>0</td>\n",
              "      <td>2147483655</td>\n",
              "      <td>2018-04-22</td>\n",
              "      <td>2018-04-22</td>\n",
              "    </tr>\n",
              "    <tr>\n",
              "      <th>8</th>\n",
              "      <td>22147483656</td>\n",
              "      <td>12147483656</td>\n",
              "      <td>29</td>\n",
              "      <td>2</td>\n",
              "      <td>2147483656</td>\n",
              "      <td>2018-04-23</td>\n",
              "      <td>2018-04-23</td>\n",
              "    </tr>\n",
              "  </tbody>\n",
              "</table>\n",
              "</div>\n",
              "      <button class=\"colab-df-convert\" onclick=\"convertToInteractive('df-27c14e16-bfbf-427f-962e-a8b6ea505c21')\"\n",
              "              title=\"Convert this dataframe to an interactive table.\"\n",
              "              style=\"display:none;\">\n",
              "        \n",
              "  <svg xmlns=\"http://www.w3.org/2000/svg\" height=\"24px\"viewBox=\"0 0 24 24\"\n",
              "       width=\"24px\">\n",
              "    <path d=\"M0 0h24v24H0V0z\" fill=\"none\"/>\n",
              "    <path d=\"M18.56 5.44l.94 2.06.94-2.06 2.06-.94-2.06-.94-.94-2.06-.94 2.06-2.06.94zm-11 1L8.5 8.5l.94-2.06 2.06-.94-2.06-.94L8.5 2.5l-.94 2.06-2.06.94zm10 10l.94 2.06.94-2.06 2.06-.94-2.06-.94-.94-2.06-.94 2.06-2.06.94z\"/><path d=\"M17.41 7.96l-1.37-1.37c-.4-.4-.92-.59-1.43-.59-.52 0-1.04.2-1.43.59L10.3 9.45l-7.72 7.72c-.78.78-.78 2.05 0 2.83L4 21.41c.39.39.9.59 1.41.59.51 0 1.02-.2 1.41-.59l7.78-7.78 2.81-2.81c.8-.78.8-2.07 0-2.86zM5.41 20L4 18.59l7.72-7.72 1.47 1.35L5.41 20z\"/>\n",
              "  </svg>\n",
              "      </button>\n",
              "      \n",
              "  <style>\n",
              "    .colab-df-container {\n",
              "      display:flex;\n",
              "      flex-wrap:wrap;\n",
              "      gap: 12px;\n",
              "    }\n",
              "\n",
              "    .colab-df-convert {\n",
              "      background-color: #E8F0FE;\n",
              "      border: none;\n",
              "      border-radius: 50%;\n",
              "      cursor: pointer;\n",
              "      display: none;\n",
              "      fill: #1967D2;\n",
              "      height: 32px;\n",
              "      padding: 0 0 0 0;\n",
              "      width: 32px;\n",
              "    }\n",
              "\n",
              "    .colab-df-convert:hover {\n",
              "      background-color: #E2EBFA;\n",
              "      box-shadow: 0px 1px 2px rgba(60, 64, 67, 0.3), 0px 1px 3px 1px rgba(60, 64, 67, 0.15);\n",
              "      fill: #174EA6;\n",
              "    }\n",
              "\n",
              "    [theme=dark] .colab-df-convert {\n",
              "      background-color: #3B4455;\n",
              "      fill: #D2E3FC;\n",
              "    }\n",
              "\n",
              "    [theme=dark] .colab-df-convert:hover {\n",
              "      background-color: #434B5C;\n",
              "      box-shadow: 0px 1px 3px 1px rgba(0, 0, 0, 0.15);\n",
              "      filter: drop-shadow(0px 1px 2px rgba(0, 0, 0, 0.3));\n",
              "      fill: #FFFFFF;\n",
              "    }\n",
              "  </style>\n",
              "\n",
              "      <script>\n",
              "        const buttonEl =\n",
              "          document.querySelector('#df-27c14e16-bfbf-427f-962e-a8b6ea505c21 button.colab-df-convert');\n",
              "        buttonEl.style.display =\n",
              "          google.colab.kernel.accessAllowed ? 'block' : 'none';\n",
              "\n",
              "        async function convertToInteractive(key) {\n",
              "          const element = document.querySelector('#df-27c14e16-bfbf-427f-962e-a8b6ea505c21');\n",
              "          const dataTable =\n",
              "            await google.colab.kernel.invokeFunction('convertToInteractive',\n",
              "                                                     [key], {});\n",
              "          if (!dataTable) return;\n",
              "\n",
              "          const docLinkHtml = 'Like what you see? Visit the ' +\n",
              "            '<a target=\"_blank\" href=https://colab.research.google.com/notebooks/data_table.ipynb>data table notebook</a>'\n",
              "            + ' to learn more about interactive tables.';\n",
              "          element.innerHTML = '';\n",
              "          dataTable['output_type'] = 'display_data';\n",
              "          await google.colab.output.renderOutput(dataTable, element);\n",
              "          const docLink = document.createElement('div');\n",
              "          docLink.innerHTML = docLinkHtml;\n",
              "          element.appendChild(docLink);\n",
              "        }\n",
              "      </script>\n",
              "    </div>\n",
              "  </div>\n",
              "  "
            ]
          },
          "metadata": {},
          "execution_count": 101
        }
      ]
    },
    {
      "cell_type": "code",
      "source": [
        "data_opers.info()"
      ],
      "metadata": {
        "colab": {
          "base_uri": "https://localhost:8080/"
        },
        "id": "VDE4PROCXDUr",
        "outputId": "f40912cd-8759-4968-c890-477ff0711daf"
      },
      "execution_count": null,
      "outputs": [
        {
          "output_type": "stream",
          "name": "stdout",
          "text": [
            "<class 'pandas.core.frame.DataFrame'>\n",
            "RangeIndex: 9 entries, 0 to 8\n",
            "Data columns (total 7 columns):\n",
            " #   Column             Non-Null Count  Dtype         \n",
            "---  ------             --------------  -----         \n",
            " 0   viol_oper_id       9 non-null      int64         \n",
            " 1   tr_viol_id         9 non-null      int64         \n",
            " 2   oper_code          9 non-null      int64         \n",
            " 3   refuse_code        9 non-null      int64         \n",
            " 4   isp_id             9 non-null      int64         \n",
            " 5   date_oper          9 non-null      datetime64[ns]\n",
            " 6   viol_datetime      9 non-null      datetime64[ns]\n",
            "dtypes: datetime64[ns](2), int64(5)\n",
            "memory usage: 632.0 bytes\n"
          ]
        }
      ]
    },
    {
      "cell_type": "code",
      "source": [
        "data_opers.columns"
      ],
      "metadata": {
        "colab": {
          "base_uri": "https://localhost:8080/"
        },
        "id": "px7KYMJzXGuC",
        "outputId": "7f3b9dee-4ae7-4134-85c1-4fc00eb2a2f7"
      },
      "execution_count": null,
      "outputs": [
        {
          "output_type": "execute_result",
          "data": {
            "text/plain": [
              "Index(['viol_oper_id', 'tr_viol_id       ', 'oper_code        ',\n",
              "       'refuse_code      ', 'isp_id           ', 'date_oper        ',\n",
              "       'viol_datetime    '],\n",
              "      dtype='object')"
            ]
          },
          "metadata": {},
          "execution_count": 103
        }
      ]
    },
    {
      "cell_type": "code",
      "source": [
        "data_opers.rename(columns = {'tr_viol_id       ':'tr_viol_id',\n",
        "                     'oper_code        ':'oper_code',\n",
        "                     'refuse_code      ':'refuse_code',\n",
        "                     'isp_id           ':'isp_id',\n",
        "                     'date_oper        ':'date_oper',\n",
        "                     'viol_datetime    ':'viol_datetime'}, inplace = True )"
      ],
      "metadata": {
        "id": "HABSx2pjXcwT"
      },
      "execution_count": null,
      "outputs": []
    },
    {
      "cell_type": "code",
      "source": [
        "data_opers.columns"
      ],
      "metadata": {
        "colab": {
          "base_uri": "https://localhost:8080/"
        },
        "id": "rfzJMOYqYOy6",
        "outputId": "46cb0d3a-82e4-42ba-99f1-8be1c15cb5e2"
      },
      "execution_count": null,
      "outputs": [
        {
          "output_type": "execute_result",
          "data": {
            "text/plain": [
              "Index(['viol_oper_id', 'tr_viol_id', 'oper_code', 'refuse_code', 'isp_id',\n",
              "       'date_oper', 'viol_datetime'],\n",
              "      dtype='object')"
            ]
          },
          "metadata": {},
          "execution_count": 105
        }
      ]
    },
    {
      "cell_type": "code",
      "source": [
        "#переведем столбец с датой в формат даты и времени\n",
        "data_opers['date_oper'] = pd.to_datetime(data_opers['date_oper'], format = '%Y-%m-%d %H:%M:%S')\n",
        "data_opers['viol_datetime'] = pd.to_datetime(data_opers['viol_datetime'], format = '%Y-%m-%d %H:%M:%S')"
      ],
      "metadata": {
        "id": "5y458i8-Ydmu"
      },
      "execution_count": null,
      "outputs": []
    },
    {
      "cell_type": "code",
      "source": [
        "data_opers.info()"
      ],
      "metadata": {
        "colab": {
          "base_uri": "https://localhost:8080/"
        },
        "id": "OHGNRk1jY2kT",
        "outputId": "feba8579-0852-49c5-a3cc-5c8bae8b858d"
      },
      "execution_count": null,
      "outputs": [
        {
          "output_type": "stream",
          "name": "stdout",
          "text": [
            "<class 'pandas.core.frame.DataFrame'>\n",
            "RangeIndex: 9 entries, 0 to 8\n",
            "Data columns (total 7 columns):\n",
            " #   Column         Non-Null Count  Dtype         \n",
            "---  ------         --------------  -----         \n",
            " 0   viol_oper_id   9 non-null      int64         \n",
            " 1   tr_viol_id     9 non-null      int64         \n",
            " 2   oper_code      9 non-null      int64         \n",
            " 3   refuse_code    9 non-null      int64         \n",
            " 4   isp_id         9 non-null      int64         \n",
            " 5   date_oper      9 non-null      datetime64[ns]\n",
            " 6   viol_datetime  9 non-null      datetime64[ns]\n",
            "dtypes: datetime64[ns](2), int64(5)\n",
            "memory usage: 632.0 bytes\n"
          ]
        }
      ]
    },
    {
      "cell_type": "code",
      "source": [
        "opers = data_opers.to_csv('opers.csv')"
      ],
      "metadata": {
        "id": "5vYyOGx0ZELD"
      },
      "execution_count": null,
      "outputs": []
    },
    {
      "cell_type": "markdown",
      "source": [
        "## SQL - запросы"
      ],
      "metadata": {
        "id": "RMeZvE5wvRAk"
      }
    },
    {
      "cell_type": "code",
      "source": [
        "# загрузка данных\n",
        "viols = spark.read.load('/content/drive/My Drive/Colab Notebooks/viols.csv',\n",
        "                       format='csv', header='true', inferSchema='true').createOrReplaceTempView('viols')\n",
        "opers = spark.read.load('/content/drive/My Drive/Colab Notebooks/opers.csv',\n",
        "                       format='csv', header='true', inferSchema='true').createOrReplaceTempView('opers')"
      ],
      "metadata": {
        "id": "mZ06UO3Qujdc"
      },
      "execution_count": null,
      "outputs": []
    },
    {
      "cell_type": "code",
      "source": [
        "spark.sql(\n",
        "    \"SELECT *\\\n",
        "    FROM opers\"\n",
        "    ).show()"
      ],
      "metadata": {
        "colab": {
          "base_uri": "https://localhost:8080/"
        },
        "id": "J-1fFC3fwc4c",
        "outputId": "7fb5413c-5fc3-4565-acf0-c5a8c3089695"
      },
      "execution_count": null,
      "outputs": [
        {
          "output_type": "stream",
          "name": "stdout",
          "text": [
            "+---+------------+-----------+---------+-----------+----------+-------------------+-------------------+\n",
            "|_c0|viol_oper_id| tr_viol_id|oper_code|refuse_code|    isp_id|          date_oper|      viol_datetime|\n",
            "+---+------------+-----------+---------+-----------+----------+-------------------+-------------------+\n",
            "|  0| 22147483648|12147483648|       29|          1|2147483648|2018-04-01 00:00:00|2018-04-01 00:00:00|\n",
            "|  1| 22147483649|12147483649|       31|          0|2147483649|2018-04-02 00:00:00|2018-04-02 00:00:00|\n",
            "|  2| 22147483650|12147483650|       29|          0|2147483650|2018-04-03 00:00:00|2018-04-03 00:00:00|\n",
            "|  3| 22147483651|12147483651|       29|          1|2147483651|2018-04-04 00:00:00|2018-04-04 00:00:00|\n",
            "|  4| 22147483652|12147483652|       31|          1|2147483652|2018-04-05 00:00:00|2018-04-05 00:00:00|\n",
            "|  5| 22147483653|12147483653|       31|          1|2147483653|2018-04-06 00:00:00|2018-04-06 00:00:00|\n",
            "|  6| 22147483654|12147483654|       31|          0|2147483654|2018-07-21 00:00:00|2018-04-21 00:00:00|\n",
            "|  7| 22147483655|12147483655|       29|          0|2147483655|2018-04-22 00:00:00|2018-04-22 00:00:00|\n",
            "|  8| 22147483656|12147483656|       29|          2|2147483656|2018-04-23 00:00:00|2018-04-23 00:00:00|\n",
            "+---+------------+-----------+---------+-----------+----------+-------------------+-------------------+\n",
            "\n"
          ]
        }
      ]
    },
    {
      "cell_type": "code",
      "source": [
        "spark.sql(\n",
        "    \"SELECT *\\\n",
        "    FROM viols\"\n",
        "    ).show()"
      ],
      "metadata": {
        "colab": {
          "base_uri": "https://localhost:8080/"
        },
        "id": "ftYQzabTwPv5",
        "outputId": "1ebb4fcf-85a4-4958-82a6-1deab90fe525"
      },
      "execution_count": null,
      "outputs": [
        {
          "output_type": "stream",
          "name": "stdout",
          "text": [
            "+---+-----------+---------+-------------------+----------+-----------+---------+\n",
            "|_c0| tr_viol_id|viol_code|         time_check|stage_code|refuse_code|camera_id|\n",
            "+---+-----------+---------+-------------------+----------+-----------+---------+\n",
            "|  0|12147483648|     1212|2018-04-01 00:00:00|         1|          1|        1|\n",
            "|  1|12147483649|      129|2018-04-02 00:00:00|         0|          0|        2|\n",
            "|  2|12147483650|     1212|2018-04-03 00:00:00|         1|          0|        3|\n",
            "|  3|12147483651|      129|2018-04-04 00:00:00|         0|          1|        4|\n",
            "|  4|12147483652|     1212|2018-04-05 00:00:00|         0|          1|        5|\n",
            "|  5|12147483653|     1212|2018-04-06 00:00:00|         0|          1|        6|\n",
            "|  6|12147483654|      129|2018-04-21 00:00:00|         1|          0|        7|\n",
            "|  7|12147483655|      129|2018-04-22 00:00:00|         1|          0|        8|\n",
            "|  8|12147483656|      129|2018-04-23 00:00:00|         1|          2|        9|\n",
            "+---+-----------+---------+-------------------+----------+-----------+---------+\n",
            "\n"
          ]
        }
      ]
    },
    {
      "cell_type": "markdown",
      "source": [
        "### 1. Дата нарушения ПДД & Число нарушений ПДД всего"
      ],
      "metadata": {
        "id": "jcYvL3raj6Qm"
      }
    },
    {
      "cell_type": "code",
      "source": [
        "%%time\n",
        "spark.sql(\n",
        "    \"SELECT time_check,\\\n",
        "    COUNT(tr_viol_id) AS total_fines\\\n",
        "    FROM viols\\\n",
        "    WHERE (CAST(time_check AS date) BETWEEN '2018-04-01' AND '2018-04-20')\\\n",
        "    GROUP BY time_check\"\n",
        "    ).show()"
      ],
      "metadata": {
        "colab": {
          "base_uri": "https://localhost:8080/"
        },
        "id": "wJLDMeMOdJtA",
        "outputId": "e1a3d745-3330-41ca-f7bd-4412dcb561ec"
      },
      "execution_count": null,
      "outputs": [
        {
          "output_type": "stream",
          "name": "stdout",
          "text": [
            "+-------------------+-----------+\n",
            "|         time_check|total_fines|\n",
            "+-------------------+-----------+\n",
            "|2018-04-04 00:00:00|          1|\n",
            "|2018-04-06 00:00:00|          1|\n",
            "|2018-04-05 00:00:00|          1|\n",
            "|2018-04-01 00:00:00|          1|\n",
            "|2018-04-03 00:00:00|          1|\n",
            "|2018-04-02 00:00:00|          1|\n",
            "+-------------------+-----------+\n",
            "\n",
            "CPU times: user 3.41 ms, sys: 0 ns, total: 3.41 ms\n",
            "Wall time: 272 ms\n"
          ]
        }
      ]
    },
    {
      "cell_type": "markdown",
      "source": [
        "### 2. Дата нарушения ПДД & Число нарушений ПДД у которых результирующий код обработки нарушения ПДД равен 0"
      ],
      "metadata": {
        "id": "Cu8srn8skOo9"
      }
    },
    {
      "cell_type": "code",
      "source": [
        "%%time\n",
        "spark.sql(\n",
        "    \"SELECT viol_datetime,\\\n",
        "    COUNT(tr_viol_id) AS count_f_refuse_code_0\\\n",
        "    FROM opers\\\n",
        "    WHERE (CAST(viol_datetime AS date) BETWEEN '2018-04-01' AND '2018-04-20')\\\n",
        "    AND refuse_code = 0\\\n",
        "    GROUP BY viol_datetime\"\n",
        "    ).show()"
      ],
      "metadata": {
        "colab": {
          "base_uri": "https://localhost:8080/"
        },
        "id": "sEIk1w8RbqDg",
        "outputId": "081f247a-a899-4824-c1d2-644591a6350b"
      },
      "execution_count": null,
      "outputs": [
        {
          "output_type": "stream",
          "name": "stdout",
          "text": [
            "+-------------------+---------------------+\n",
            "|      viol_datetime|count_f_refuse_code_0|\n",
            "+-------------------+---------------------+\n",
            "|2018-04-03 00:00:00|                    1|\n",
            "|2018-04-02 00:00:00|                    1|\n",
            "+-------------------+---------------------+\n",
            "\n",
            "CPU times: user 7.39 ms, sys: 82 µs, total: 7.47 ms\n",
            "Wall time: 481 ms\n"
          ]
        }
      ]
    },
    {
      "cell_type": "markdown",
      "source": [
        "### 3. Дата нарушения ПДД & Число нарушений ПДД по которым была операция обработки тип 29"
      ],
      "metadata": {
        "id": "akz59y2jki72"
      }
    },
    {
      "cell_type": "code",
      "source": [
        "%%time\n",
        "spark.sql(\n",
        "    \"SELECT viol_datetime,\\\n",
        "    COUNT(tr_viol_id) AS count_f_oper_code_29\\\n",
        "    FROM opers_v3\\\n",
        "    WHERE (CAST(viol_datetime AS date) BETWEEN '2018-04-01' AND '2018-04-20')\\\n",
        "    AND oper_code = 29\\\n",
        "    GROUP BY viol_datetime\"\n",
        "    ).show()"
      ],
      "metadata": {
        "colab": {
          "base_uri": "https://localhost:8080/"
        },
        "id": "s7P0Nfz6jhem",
        "outputId": "31da55c0-0536-4f82-d5d7-9f0fd7be53a1"
      },
      "execution_count": null,
      "outputs": [
        {
          "output_type": "stream",
          "name": "stdout",
          "text": [
            "+-------------------+--------------------+\n",
            "|      viol_datetime|count_f_oper_code_29|\n",
            "+-------------------+--------------------+\n",
            "|2018-04-04 00:00:00|                   1|\n",
            "|2018-04-01 00:00:00|                   1|\n",
            "|2018-04-03 00:00:00|                   1|\n",
            "+-------------------+--------------------+\n",
            "\n",
            "CPU times: user 6.38 ms, sys: 443 µs, total: 6.82 ms\n",
            "Wall time: 424 ms\n"
          ]
        }
      ]
    },
    {
      "cell_type": "markdown",
      "source": [
        "### 4. Дата нарушения ПДД & Число нарушений ПДД по которым не было операции обработки тип 29, а результирующий код обработки нарушения ПДД равен 0"
      ],
      "metadata": {
        "id": "MCNd-r1SlRem"
      }
    },
    {
      "cell_type": "code",
      "source": [
        "%%time\n",
        "spark.sql(\n",
        "    \"SELECT viol_datetime,\\\n",
        "    COUNT(tr_viol_id) AS count_f_code_0_and_29\\\n",
        "    FROM opers_v3\\\n",
        "    WHERE (CAST(viol_datetime AS date) BETWEEN '2018-04-01' AND '2018-04-20')\\\n",
        "    AND refuse_code = 0\\\n",
        "    AND oper_code = 29\\\n",
        "    GROUP BY viol_datetime\"\n",
        "    ).show()"
      ],
      "metadata": {
        "colab": {
          "base_uri": "https://localhost:8080/"
        },
        "id": "6FWSohwdldvm",
        "outputId": "af315668-0a4c-4583-c959-8d8b2d61c0ca"
      },
      "execution_count": null,
      "outputs": [
        {
          "output_type": "stream",
          "name": "stdout",
          "text": [
            "+-------------------+---------------------+\n",
            "|      viol_datetime|count_f_code_0_and_29|\n",
            "+-------------------+---------------------+\n",
            "|2018-04-03 00:00:00|                    1|\n",
            "+-------------------+---------------------+\n",
            "\n",
            "CPU times: user 4.91 ms, sys: 1.17 ms, total: 6.08 ms\n",
            "Wall time: 410 ms\n"
          ]
        }
      ]
    },
    {
      "cell_type": "markdown",
      "source": [
        "### 5. Сводная таблица"
      ],
      "metadata": {
        "id": "1reWfg23r7oj"
      }
    },
    {
      "cell_type": "code",
      "source": [
        "%%time\n",
        "spark.sql(\n",
        "    \"WITH\\\n",
        "    s1 AS (SELECT time_check,\\\n",
        "    COUNT(tr_viol_id) AS total_fines\\\n",
        "    FROM viols\\\n",
        "    WHERE (CAST(time_check AS date) BETWEEN '2018-04-01' AND '2018-04-20')\\\n",
        "    GROUP BY time_check),\\\n",
        "    \\\n",
        "    s2 AS (SELECT viol_datetime,\\\n",
        "    COUNT(tr_viol_id) AS count_f_refuse_code_0\\\n",
        "    FROM opers\\\n",
        "    WHERE (CAST(viol_datetime AS date) BETWEEN '2018-04-01' AND '2018-04-20')\\\n",
        "    AND refuse_code = 0\\\n",
        "    GROUP BY viol_datetime),\\\n",
        "    \\\n",
        "    s3 AS (SELECT viol_datetime,\\\n",
        "    COUNT(tr_viol_id) AS count_f_oper_code_29\\\n",
        "    FROM opers_v3\\\n",
        "    WHERE (CAST(viol_datetime AS date) BETWEEN '2018-04-01' AND '2018-04-20')\\\n",
        "    AND oper_code = 29\\\n",
        "    GROUP BY viol_datetime),\\\n",
        "    \\\n",
        "    s4 AS (SELECT viol_datetime,\\\n",
        "    COUNT(tr_viol_id) AS count_f_code_0_and_29\\\n",
        "    FROM opers_v3\\\n",
        "    WHERE (CAST(viol_datetime AS date) BETWEEN '2018-04-01' AND '2018-04-20')\\\n",
        "    AND refuse_code = 0\\\n",
        "    AND oper_code = 29\\\n",
        "    GROUP BY viol_datetime)\\\n",
        "    \\\n",
        "    SELECT s1.time_check,\\\n",
        "    s1.total_fines,\\\n",
        "    s2.count_f_refuse_code_0,\\\n",
        "    s3.count_f_oper_code_29,\\\n",
        "    s4.count_f_code_0_and_29 \\\n",
        "    FROM s1\\\n",
        "    LEFT OUTER JOIN s2 ON s1.time_check=s2.viol_datetime\\\n",
        "    LEFT OUTER JOIN s3 ON s1.time_check=s3.viol_datetime\\\n",
        "    LEFT OUTER JOIN s4 ON s1.time_check=s4.viol_datetime\"\n",
        "    ).show()"
      ],
      "metadata": {
        "colab": {
          "base_uri": "https://localhost:8080/"
        },
        "id": "kvDOhaz0lpi8",
        "outputId": "c37e3040-a680-4ccf-e542-0f4b0e976772"
      },
      "execution_count": null,
      "outputs": [
        {
          "output_type": "stream",
          "name": "stdout",
          "text": [
            "+-------------------+-----------+---------------------+--------------------+---------------------+\n",
            "|         time_check|total_fines|count_f_refuse_code_0|count_f_oper_code_29|count_f_code_0_and_29|\n",
            "+-------------------+-----------+---------------------+--------------------+---------------------+\n",
            "|2018-04-04 00:00:00|          1|                 null|                   1|                 null|\n",
            "|2018-04-06 00:00:00|          1|                 null|                null|                 null|\n",
            "|2018-04-05 00:00:00|          1|                 null|                null|                 null|\n",
            "|2018-04-01 00:00:00|          1|                 null|                   1|                 null|\n",
            "|2018-04-03 00:00:00|          1|                    1|                   1|                    1|\n",
            "|2018-04-02 00:00:00|          1|                    1|                null|                 null|\n",
            "+-------------------+-----------+---------------------+--------------------+---------------------+\n",
            "\n",
            "CPU times: user 12.4 ms, sys: 1.06 ms, total: 13.5 ms\n",
            "Wall time: 1.46 s\n"
          ]
        }
      ]
    },
    {
      "cell_type": "code",
      "source": [],
      "metadata": {
        "id": "5ksjwr51zTMb"
      },
      "execution_count": null,
      "outputs": []
    },
    {
      "cell_type": "code",
      "source": [],
      "metadata": {
        "id": "DuKP2WLoDiBV"
      },
      "execution_count": null,
      "outputs": []
    }
  ]
}