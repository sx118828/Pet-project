{
  "nbformat": 4,
  "nbformat_minor": 0,
  "metadata": {
    "colab": {
      "provenance": []
    },
    "kernelspec": {
      "name": "python3",
      "display_name": "Python 3"
    },
    "language_info": {
      "name": "python"
    }
  },
  "cells": [
    {
      "cell_type": "markdown",
      "source": [
        "## Загрузка библиотек, данных"
      ],
      "metadata": {
        "id": "cNg7Xsl3cCio"
      }
    },
    {
      "cell_type": "code",
      "source": [
        "!pip install -U -q PyDrive\n",
        "!pip install pyspark"
      ],
      "metadata": {
        "colab": {
          "base_uri": "https://localhost:8080/"
        },
        "id": "NnsAf_JCcDTM",
        "outputId": "42d8eccf-bded-4598-a986-47d5afa0723a"
      },
      "execution_count": null,
      "outputs": [
        {
          "output_type": "stream",
          "name": "stdout",
          "text": [
            "Looking in indexes: https://pypi.org/simple, https://us-python.pkg.dev/colab-wheels/public/simple/\n",
            "Collecting pyspark\n",
            "  Downloading pyspark-3.3.1.tar.gz (281.4 MB)\n",
            "\u001b[2K     \u001b[90m━━━━━━━━━━━━━━━━━━━━━━━━━━━━━━━━━━━━━━━\u001b[0m \u001b[32m281.4/281.4 MB\u001b[0m \u001b[31m3.0 MB/s\u001b[0m eta \u001b[36m0:00:00\u001b[0m\n",
            "\u001b[?25h  Preparing metadata (setup.py) ... \u001b[?25l\u001b[?25hdone\n",
            "Collecting py4j==0.10.9.5\n",
            "  Downloading py4j-0.10.9.5-py2.py3-none-any.whl (199 kB)\n",
            "\u001b[2K     \u001b[90m━━━━━━━━━━━━━━━━━━━━━━━━━━━━━━━━━━━━━━\u001b[0m \u001b[32m199.7/199.7 KB\u001b[0m \u001b[31m14.6 MB/s\u001b[0m eta \u001b[36m0:00:00\u001b[0m\n",
            "\u001b[?25hBuilding wheels for collected packages: pyspark\n",
            "  Building wheel for pyspark (setup.py) ... \u001b[?25l\u001b[?25hdone\n",
            "  Created wheel for pyspark: filename=pyspark-3.3.1-py2.py3-none-any.whl size=281845512 sha256=c2816011b18677f0da5e890d7adee1fde658ab124791d5ea317c8f8a3b750b03\n",
            "  Stored in directory: /root/.cache/pip/wheels/43/dc/11/ec201cd671da62fa9c5cc77078235e40722170ceba231d7598\n",
            "Successfully built pyspark\n",
            "Installing collected packages: py4j, pyspark\n",
            "Successfully installed py4j-0.10.9.5 pyspark-3.3.1\n"
          ]
        }
      ]
    },
    {
      "cell_type": "code",
      "source": [
        "import numpy as np\n",
        "import pandas as pd\n",
        "\n",
        "from google.colab import drive\n",
        "from google.colab import files\n",
        "import os"
      ],
      "metadata": {
        "id": "JZdaMXqxcInb"
      },
      "execution_count": null,
      "outputs": []
    },
    {
      "cell_type": "code",
      "source": [
        "from pyspark.sql import SparkSession\n",
        "from pyspark.sql.functions import sequence, to_date, explode, col\n",
        "spark = SparkSession \\\n",
        ".builder \\\n",
        ".appName(\"Python Spark SQL basic example\") \\\n",
        ".config(\"spark.some.config.option\", \"some-value\") \\\n",
        ".getOrCreate()"
      ],
      "metadata": {
        "id": "6qGQJo34cWka"
      },
      "execution_count": null,
      "outputs": []
    },
    {
      "cell_type": "code",
      "source": [
        "# просмотр, где находится каталог с файлами на COLAB\n",
        "drive.mount('/content/drive')"
      ],
      "metadata": {
        "colab": {
          "base_uri": "https://localhost:8080/"
        },
        "id": "HgkEsn09ccE0",
        "outputId": "0c475265-1543-45a6-f9d5-86e678158282"
      },
      "execution_count": null,
      "outputs": [
        {
          "output_type": "stream",
          "name": "stdout",
          "text": [
            "Mounted at /content/drive\n"
          ]
        }
      ]
    },
    {
      "cell_type": "markdown",
      "source": [
        "## Предобработка данных"
      ],
      "metadata": {
        "id": "vlICC6cUbxqh"
      }
    },
    {
      "cell_type": "code",
      "source": [
        "data_posting_table = pd.read_excel('/content/drive/My Drive/Colab Notebooks/posting_table.xlsx')\n",
        "data_clients_info = pd.read_excel('/content/drive/My Drive/Colab Notebooks/clients_info.xlsx')\n",
        "data_pet_chk_20_pet_chk_21 = pd.read_excel('/content/drive/My Drive/Colab Notebooks/pet_chk_20_pet_chk_21.xlsx')"
      ],
      "metadata": {
        "id": "PFqYoz-CnOlg"
      },
      "execution_count": null,
      "outputs": []
    },
    {
      "cell_type": "code",
      "source": [
        "data_posting_table"
      ],
      "metadata": {
        "colab": {
          "base_uri": "https://localhost:8080/",
          "height": 175
        },
        "id": "ZNas0JntncCG",
        "outputId": "5ee43626-826a-40aa-e975-0165b8f83159"
      },
      "execution_count": null,
      "outputs": [
        {
          "output_type": "execute_result",
          "data": {
            "text/plain": [
              "  BUSINESS_DT   ACCOUNT_DEBIT_ID   POSTING_AMT   ACCOUNT_CREDIT_ID \n",
              "0   2020-01-01                  1          1000                   2\n",
              "1   2020-01-05                  2           500                   1\n",
              "2   2020-02-04                  2           500                   1\n",
              "3   2020-03-04                  1          1000                   2"
            ],
            "text/html": [
              "\n",
              "  <div id=\"df-91b236cf-d975-494c-8286-3e93539c2b97\">\n",
              "    <div class=\"colab-df-container\">\n",
              "      <div>\n",
              "<style scoped>\n",
              "    .dataframe tbody tr th:only-of-type {\n",
              "        vertical-align: middle;\n",
              "    }\n",
              "\n",
              "    .dataframe tbody tr th {\n",
              "        vertical-align: top;\n",
              "    }\n",
              "\n",
              "    .dataframe thead th {\n",
              "        text-align: right;\n",
              "    }\n",
              "</style>\n",
              "<table border=\"1\" class=\"dataframe\">\n",
              "  <thead>\n",
              "    <tr style=\"text-align: right;\">\n",
              "      <th></th>\n",
              "      <th>BUSINESS_DT</th>\n",
              "      <th>ACCOUNT_DEBIT_ID</th>\n",
              "      <th>POSTING_AMT</th>\n",
              "      <th>ACCOUNT_CREDIT_ID</th>\n",
              "    </tr>\n",
              "  </thead>\n",
              "  <tbody>\n",
              "    <tr>\n",
              "      <th>0</th>\n",
              "      <td>2020-01-01</td>\n",
              "      <td>1</td>\n",
              "      <td>1000</td>\n",
              "      <td>2</td>\n",
              "    </tr>\n",
              "    <tr>\n",
              "      <th>1</th>\n",
              "      <td>2020-01-05</td>\n",
              "      <td>2</td>\n",
              "      <td>500</td>\n",
              "      <td>1</td>\n",
              "    </tr>\n",
              "    <tr>\n",
              "      <th>2</th>\n",
              "      <td>2020-02-04</td>\n",
              "      <td>2</td>\n",
              "      <td>500</td>\n",
              "      <td>1</td>\n",
              "    </tr>\n",
              "    <tr>\n",
              "      <th>3</th>\n",
              "      <td>2020-03-04</td>\n",
              "      <td>1</td>\n",
              "      <td>1000</td>\n",
              "      <td>2</td>\n",
              "    </tr>\n",
              "  </tbody>\n",
              "</table>\n",
              "</div>\n",
              "      <button class=\"colab-df-convert\" onclick=\"convertToInteractive('df-91b236cf-d975-494c-8286-3e93539c2b97')\"\n",
              "              title=\"Convert this dataframe to an interactive table.\"\n",
              "              style=\"display:none;\">\n",
              "        \n",
              "  <svg xmlns=\"http://www.w3.org/2000/svg\" height=\"24px\"viewBox=\"0 0 24 24\"\n",
              "       width=\"24px\">\n",
              "    <path d=\"M0 0h24v24H0V0z\" fill=\"none\"/>\n",
              "    <path d=\"M18.56 5.44l.94 2.06.94-2.06 2.06-.94-2.06-.94-.94-2.06-.94 2.06-2.06.94zm-11 1L8.5 8.5l.94-2.06 2.06-.94-2.06-.94L8.5 2.5l-.94 2.06-2.06.94zm10 10l.94 2.06.94-2.06 2.06-.94-2.06-.94-.94-2.06-.94 2.06-2.06.94z\"/><path d=\"M17.41 7.96l-1.37-1.37c-.4-.4-.92-.59-1.43-.59-.52 0-1.04.2-1.43.59L10.3 9.45l-7.72 7.72c-.78.78-.78 2.05 0 2.83L4 21.41c.39.39.9.59 1.41.59.51 0 1.02-.2 1.41-.59l7.78-7.78 2.81-2.81c.8-.78.8-2.07 0-2.86zM5.41 20L4 18.59l7.72-7.72 1.47 1.35L5.41 20z\"/>\n",
              "  </svg>\n",
              "      </button>\n",
              "      \n",
              "  <style>\n",
              "    .colab-df-container {\n",
              "      display:flex;\n",
              "      flex-wrap:wrap;\n",
              "      gap: 12px;\n",
              "    }\n",
              "\n",
              "    .colab-df-convert {\n",
              "      background-color: #E8F0FE;\n",
              "      border: none;\n",
              "      border-radius: 50%;\n",
              "      cursor: pointer;\n",
              "      display: none;\n",
              "      fill: #1967D2;\n",
              "      height: 32px;\n",
              "      padding: 0 0 0 0;\n",
              "      width: 32px;\n",
              "    }\n",
              "\n",
              "    .colab-df-convert:hover {\n",
              "      background-color: #E2EBFA;\n",
              "      box-shadow: 0px 1px 2px rgba(60, 64, 67, 0.3), 0px 1px 3px 1px rgba(60, 64, 67, 0.15);\n",
              "      fill: #174EA6;\n",
              "    }\n",
              "\n",
              "    [theme=dark] .colab-df-convert {\n",
              "      background-color: #3B4455;\n",
              "      fill: #D2E3FC;\n",
              "    }\n",
              "\n",
              "    [theme=dark] .colab-df-convert:hover {\n",
              "      background-color: #434B5C;\n",
              "      box-shadow: 0px 1px 3px 1px rgba(0, 0, 0, 0.15);\n",
              "      filter: drop-shadow(0px 1px 2px rgba(0, 0, 0, 0.3));\n",
              "      fill: #FFFFFF;\n",
              "    }\n",
              "  </style>\n",
              "\n",
              "      <script>\n",
              "        const buttonEl =\n",
              "          document.querySelector('#df-91b236cf-d975-494c-8286-3e93539c2b97 button.colab-df-convert');\n",
              "        buttonEl.style.display =\n",
              "          google.colab.kernel.accessAllowed ? 'block' : 'none';\n",
              "\n",
              "        async function convertToInteractive(key) {\n",
              "          const element = document.querySelector('#df-91b236cf-d975-494c-8286-3e93539c2b97');\n",
              "          const dataTable =\n",
              "            await google.colab.kernel.invokeFunction('convertToInteractive',\n",
              "                                                     [key], {});\n",
              "          if (!dataTable) return;\n",
              "\n",
              "          const docLinkHtml = 'Like what you see? Visit the ' +\n",
              "            '<a target=\"_blank\" href=https://colab.research.google.com/notebooks/data_table.ipynb>data table notebook</a>'\n",
              "            + ' to learn more about interactive tables.';\n",
              "          element.innerHTML = '';\n",
              "          dataTable['output_type'] = 'display_data';\n",
              "          await google.colab.output.renderOutput(dataTable, element);\n",
              "          const docLink = document.createElement('div');\n",
              "          docLink.innerHTML = docLinkHtml;\n",
              "          element.appendChild(docLink);\n",
              "        }\n",
              "      </script>\n",
              "    </div>\n",
              "  </div>\n",
              "  "
            ]
          },
          "metadata": {},
          "execution_count": 7
        }
      ]
    },
    {
      "cell_type": "code",
      "source": [
        "data_clients_info.head(5)"
      ],
      "metadata": {
        "colab": {
          "base_uri": "https://localhost:8080/",
          "height": 206
        },
        "id": "b7n7yv40rgzo",
        "outputId": "a6913451-3717-4ed2-8233-324aa81639b5"
      },
      "execution_count": null,
      "outputs": [
        {
          "output_type": "execute_result",
          "data": {
            "text/plain": [
              "   row_id registration_date  fst_name last_name   mid_name  sex_mf  card_no\n",
              "0       1        2019-04-01    Иванов      Петр  Сергеевич    male  2675354\n",
              "1       2        2019-05-02    Петров    Сергей   Иванович    male  2675355\n",
              "2       3        2018-06-03   Семенов     Семен  Семенович    male  2675356\n",
              "3       4        2017-07-05   Сергеев      Иван   Петрович    male  2675357\n",
              "4       5        2016-08-06  Синицина     Ольга   Ивановна  female  2675358"
            ],
            "text/html": [
              "\n",
              "  <div id=\"df-b4fd81bb-fde8-47d0-b5d6-15937af07523\">\n",
              "    <div class=\"colab-df-container\">\n",
              "      <div>\n",
              "<style scoped>\n",
              "    .dataframe tbody tr th:only-of-type {\n",
              "        vertical-align: middle;\n",
              "    }\n",
              "\n",
              "    .dataframe tbody tr th {\n",
              "        vertical-align: top;\n",
              "    }\n",
              "\n",
              "    .dataframe thead th {\n",
              "        text-align: right;\n",
              "    }\n",
              "</style>\n",
              "<table border=\"1\" class=\"dataframe\">\n",
              "  <thead>\n",
              "    <tr style=\"text-align: right;\">\n",
              "      <th></th>\n",
              "      <th>row_id</th>\n",
              "      <th>registration_date</th>\n",
              "      <th>fst_name</th>\n",
              "      <th>last_name</th>\n",
              "      <th>mid_name</th>\n",
              "      <th>sex_mf</th>\n",
              "      <th>card_no</th>\n",
              "    </tr>\n",
              "  </thead>\n",
              "  <tbody>\n",
              "    <tr>\n",
              "      <th>0</th>\n",
              "      <td>1</td>\n",
              "      <td>2019-04-01</td>\n",
              "      <td>Иванов</td>\n",
              "      <td>Петр</td>\n",
              "      <td>Сергеевич</td>\n",
              "      <td>male</td>\n",
              "      <td>2675354</td>\n",
              "    </tr>\n",
              "    <tr>\n",
              "      <th>1</th>\n",
              "      <td>2</td>\n",
              "      <td>2019-05-02</td>\n",
              "      <td>Петров</td>\n",
              "      <td>Сергей</td>\n",
              "      <td>Иванович</td>\n",
              "      <td>male</td>\n",
              "      <td>2675355</td>\n",
              "    </tr>\n",
              "    <tr>\n",
              "      <th>2</th>\n",
              "      <td>3</td>\n",
              "      <td>2018-06-03</td>\n",
              "      <td>Семенов</td>\n",
              "      <td>Семен</td>\n",
              "      <td>Семенович</td>\n",
              "      <td>male</td>\n",
              "      <td>2675356</td>\n",
              "    </tr>\n",
              "    <tr>\n",
              "      <th>3</th>\n",
              "      <td>4</td>\n",
              "      <td>2017-07-05</td>\n",
              "      <td>Сергеев</td>\n",
              "      <td>Иван</td>\n",
              "      <td>Петрович</td>\n",
              "      <td>male</td>\n",
              "      <td>2675357</td>\n",
              "    </tr>\n",
              "    <tr>\n",
              "      <th>4</th>\n",
              "      <td>5</td>\n",
              "      <td>2016-08-06</td>\n",
              "      <td>Синицина</td>\n",
              "      <td>Ольга</td>\n",
              "      <td>Ивановна</td>\n",
              "      <td>female</td>\n",
              "      <td>2675358</td>\n",
              "    </tr>\n",
              "  </tbody>\n",
              "</table>\n",
              "</div>\n",
              "      <button class=\"colab-df-convert\" onclick=\"convertToInteractive('df-b4fd81bb-fde8-47d0-b5d6-15937af07523')\"\n",
              "              title=\"Convert this dataframe to an interactive table.\"\n",
              "              style=\"display:none;\">\n",
              "        \n",
              "  <svg xmlns=\"http://www.w3.org/2000/svg\" height=\"24px\"viewBox=\"0 0 24 24\"\n",
              "       width=\"24px\">\n",
              "    <path d=\"M0 0h24v24H0V0z\" fill=\"none\"/>\n",
              "    <path d=\"M18.56 5.44l.94 2.06.94-2.06 2.06-.94-2.06-.94-.94-2.06-.94 2.06-2.06.94zm-11 1L8.5 8.5l.94-2.06 2.06-.94-2.06-.94L8.5 2.5l-.94 2.06-2.06.94zm10 10l.94 2.06.94-2.06 2.06-.94-2.06-.94-.94-2.06-.94 2.06-2.06.94z\"/><path d=\"M17.41 7.96l-1.37-1.37c-.4-.4-.92-.59-1.43-.59-.52 0-1.04.2-1.43.59L10.3 9.45l-7.72 7.72c-.78.78-.78 2.05 0 2.83L4 21.41c.39.39.9.59 1.41.59.51 0 1.02-.2 1.41-.59l7.78-7.78 2.81-2.81c.8-.78.8-2.07 0-2.86zM5.41 20L4 18.59l7.72-7.72 1.47 1.35L5.41 20z\"/>\n",
              "  </svg>\n",
              "      </button>\n",
              "      \n",
              "  <style>\n",
              "    .colab-df-container {\n",
              "      display:flex;\n",
              "      flex-wrap:wrap;\n",
              "      gap: 12px;\n",
              "    }\n",
              "\n",
              "    .colab-df-convert {\n",
              "      background-color: #E8F0FE;\n",
              "      border: none;\n",
              "      border-radius: 50%;\n",
              "      cursor: pointer;\n",
              "      display: none;\n",
              "      fill: #1967D2;\n",
              "      height: 32px;\n",
              "      padding: 0 0 0 0;\n",
              "      width: 32px;\n",
              "    }\n",
              "\n",
              "    .colab-df-convert:hover {\n",
              "      background-color: #E2EBFA;\n",
              "      box-shadow: 0px 1px 2px rgba(60, 64, 67, 0.3), 0px 1px 3px 1px rgba(60, 64, 67, 0.15);\n",
              "      fill: #174EA6;\n",
              "    }\n",
              "\n",
              "    [theme=dark] .colab-df-convert {\n",
              "      background-color: #3B4455;\n",
              "      fill: #D2E3FC;\n",
              "    }\n",
              "\n",
              "    [theme=dark] .colab-df-convert:hover {\n",
              "      background-color: #434B5C;\n",
              "      box-shadow: 0px 1px 3px 1px rgba(0, 0, 0, 0.15);\n",
              "      filter: drop-shadow(0px 1px 2px rgba(0, 0, 0, 0.3));\n",
              "      fill: #FFFFFF;\n",
              "    }\n",
              "  </style>\n",
              "\n",
              "      <script>\n",
              "        const buttonEl =\n",
              "          document.querySelector('#df-b4fd81bb-fde8-47d0-b5d6-15937af07523 button.colab-df-convert');\n",
              "        buttonEl.style.display =\n",
              "          google.colab.kernel.accessAllowed ? 'block' : 'none';\n",
              "\n",
              "        async function convertToInteractive(key) {\n",
              "          const element = document.querySelector('#df-b4fd81bb-fde8-47d0-b5d6-15937af07523');\n",
              "          const dataTable =\n",
              "            await google.colab.kernel.invokeFunction('convertToInteractive',\n",
              "                                                     [key], {});\n",
              "          if (!dataTable) return;\n",
              "\n",
              "          const docLinkHtml = 'Like what you see? Visit the ' +\n",
              "            '<a target=\"_blank\" href=https://colab.research.google.com/notebooks/data_table.ipynb>data table notebook</a>'\n",
              "            + ' to learn more about interactive tables.';\n",
              "          element.innerHTML = '';\n",
              "          dataTable['output_type'] = 'display_data';\n",
              "          await google.colab.output.renderOutput(dataTable, element);\n",
              "          const docLink = document.createElement('div');\n",
              "          docLink.innerHTML = docLinkHtml;\n",
              "          element.appendChild(docLink);\n",
              "        }\n",
              "      </script>\n",
              "    </div>\n",
              "  </div>\n",
              "  "
            ]
          },
          "metadata": {},
          "execution_count": 8
        }
      ]
    },
    {
      "cell_type": "code",
      "source": [
        "data_pet_chk_20_pet_chk_21.head(5)"
      ],
      "metadata": {
        "colab": {
          "base_uri": "https://localhost:8080/",
          "height": 300
        },
        "id": "IAaW5-iDrQow",
        "outputId": "751edbd2-dbbd-4f6a-91e4-35e4ca4af666"
      },
      "execution_count": null,
      "outputs": [
        {
          "output_type": "execute_result",
          "data": {
            "text/plain": [
              "   card_no operation_date  cheque_id  vol_ai92   vol_ai95  vol_ai98  vol_gaz  \\\n",
              "0  2675354     2020-01-01          1       NaN        NaN       NaN      NaN   \n",
              "1  2675355     2020-01-02          2       NaN        NaN       NaN     40.0   \n",
              "2  2675356     2020-01-03          3       NaN        NaN      10.0      NaN   \n",
              "3  2675357     2020-01-04          4      50.0  52.666667       NaN      NaN   \n",
              "4  2675358     2020-01-05          5       NaN        NaN       NaN     40.0   \n",
              "\n",
              "   vol_diesel  vol_other  wt_ai92  ...  a_ai98  a_gaz  a_diesel  a_other  \\\n",
              "0         NaN       10.0      0.0  ...     0.0      0         0    377.0   \n",
              "1         NaN        NaN      0.0  ...     0.0    940         0      0.0   \n",
              "2         NaN        NaN      0.0  ...   639.9      0         0      0.0   \n",
              "3         NaN        NaN     38.0  ...     0.0      0         0      0.0   \n",
              "4         NaN        NaN      0.0  ...     0.0    940         0      0.0   \n",
              "\n",
              "   ta_ai92   ta_ai95  ta_ai98  ta_gaz  ta_diesel  ta_other  \n",
              "0      0.0     0.000    0.000     0.0          0    369.46  \n",
              "1      0.0     0.000    0.000   930.6          0      0.00  \n",
              "2      0.0     0.000  614.304     0.0          0      0.00  \n",
              "3   2376.5  2554.495    0.000     0.0          0      0.00  \n",
              "4      0.0     0.000    0.000   930.6          0      0.00  \n",
              "\n",
              "[5 rows x 27 columns]"
            ],
            "text/html": [
              "\n",
              "  <div id=\"df-ad4c4e4f-ea81-4720-9f1d-d55b149b4c8f\">\n",
              "    <div class=\"colab-df-container\">\n",
              "      <div>\n",
              "<style scoped>\n",
              "    .dataframe tbody tr th:only-of-type {\n",
              "        vertical-align: middle;\n",
              "    }\n",
              "\n",
              "    .dataframe tbody tr th {\n",
              "        vertical-align: top;\n",
              "    }\n",
              "\n",
              "    .dataframe thead th {\n",
              "        text-align: right;\n",
              "    }\n",
              "</style>\n",
              "<table border=\"1\" class=\"dataframe\">\n",
              "  <thead>\n",
              "    <tr style=\"text-align: right;\">\n",
              "      <th></th>\n",
              "      <th>card_no</th>\n",
              "      <th>operation_date</th>\n",
              "      <th>cheque_id</th>\n",
              "      <th>vol_ai92</th>\n",
              "      <th>vol_ai95</th>\n",
              "      <th>vol_ai98</th>\n",
              "      <th>vol_gaz</th>\n",
              "      <th>vol_diesel</th>\n",
              "      <th>vol_other</th>\n",
              "      <th>wt_ai92</th>\n",
              "      <th>...</th>\n",
              "      <th>a_ai98</th>\n",
              "      <th>a_gaz</th>\n",
              "      <th>a_diesel</th>\n",
              "      <th>a_other</th>\n",
              "      <th>ta_ai92</th>\n",
              "      <th>ta_ai95</th>\n",
              "      <th>ta_ai98</th>\n",
              "      <th>ta_gaz</th>\n",
              "      <th>ta_diesel</th>\n",
              "      <th>ta_other</th>\n",
              "    </tr>\n",
              "  </thead>\n",
              "  <tbody>\n",
              "    <tr>\n",
              "      <th>0</th>\n",
              "      <td>2675354</td>\n",
              "      <td>2020-01-01</td>\n",
              "      <td>1</td>\n",
              "      <td>NaN</td>\n",
              "      <td>NaN</td>\n",
              "      <td>NaN</td>\n",
              "      <td>NaN</td>\n",
              "      <td>NaN</td>\n",
              "      <td>10.0</td>\n",
              "      <td>0.0</td>\n",
              "      <td>...</td>\n",
              "      <td>0.0</td>\n",
              "      <td>0</td>\n",
              "      <td>0</td>\n",
              "      <td>377.0</td>\n",
              "      <td>0.0</td>\n",
              "      <td>0.000</td>\n",
              "      <td>0.000</td>\n",
              "      <td>0.0</td>\n",
              "      <td>0</td>\n",
              "      <td>369.46</td>\n",
              "    </tr>\n",
              "    <tr>\n",
              "      <th>1</th>\n",
              "      <td>2675355</td>\n",
              "      <td>2020-01-02</td>\n",
              "      <td>2</td>\n",
              "      <td>NaN</td>\n",
              "      <td>NaN</td>\n",
              "      <td>NaN</td>\n",
              "      <td>40.0</td>\n",
              "      <td>NaN</td>\n",
              "      <td>NaN</td>\n",
              "      <td>0.0</td>\n",
              "      <td>...</td>\n",
              "      <td>0.0</td>\n",
              "      <td>940</td>\n",
              "      <td>0</td>\n",
              "      <td>0.0</td>\n",
              "      <td>0.0</td>\n",
              "      <td>0.000</td>\n",
              "      <td>0.000</td>\n",
              "      <td>930.6</td>\n",
              "      <td>0</td>\n",
              "      <td>0.00</td>\n",
              "    </tr>\n",
              "    <tr>\n",
              "      <th>2</th>\n",
              "      <td>2675356</td>\n",
              "      <td>2020-01-03</td>\n",
              "      <td>3</td>\n",
              "      <td>NaN</td>\n",
              "      <td>NaN</td>\n",
              "      <td>10.0</td>\n",
              "      <td>NaN</td>\n",
              "      <td>NaN</td>\n",
              "      <td>NaN</td>\n",
              "      <td>0.0</td>\n",
              "      <td>...</td>\n",
              "      <td>639.9</td>\n",
              "      <td>0</td>\n",
              "      <td>0</td>\n",
              "      <td>0.0</td>\n",
              "      <td>0.0</td>\n",
              "      <td>0.000</td>\n",
              "      <td>614.304</td>\n",
              "      <td>0.0</td>\n",
              "      <td>0</td>\n",
              "      <td>0.00</td>\n",
              "    </tr>\n",
              "    <tr>\n",
              "      <th>3</th>\n",
              "      <td>2675357</td>\n",
              "      <td>2020-01-04</td>\n",
              "      <td>4</td>\n",
              "      <td>50.0</td>\n",
              "      <td>52.666667</td>\n",
              "      <td>NaN</td>\n",
              "      <td>NaN</td>\n",
              "      <td>NaN</td>\n",
              "      <td>NaN</td>\n",
              "      <td>38.0</td>\n",
              "      <td>...</td>\n",
              "      <td>0.0</td>\n",
              "      <td>0</td>\n",
              "      <td>0</td>\n",
              "      <td>0.0</td>\n",
              "      <td>2376.5</td>\n",
              "      <td>2554.495</td>\n",
              "      <td>0.000</td>\n",
              "      <td>0.0</td>\n",
              "      <td>0</td>\n",
              "      <td>0.00</td>\n",
              "    </tr>\n",
              "    <tr>\n",
              "      <th>4</th>\n",
              "      <td>2675358</td>\n",
              "      <td>2020-01-05</td>\n",
              "      <td>5</td>\n",
              "      <td>NaN</td>\n",
              "      <td>NaN</td>\n",
              "      <td>NaN</td>\n",
              "      <td>40.0</td>\n",
              "      <td>NaN</td>\n",
              "      <td>NaN</td>\n",
              "      <td>0.0</td>\n",
              "      <td>...</td>\n",
              "      <td>0.0</td>\n",
              "      <td>940</td>\n",
              "      <td>0</td>\n",
              "      <td>0.0</td>\n",
              "      <td>0.0</td>\n",
              "      <td>0.000</td>\n",
              "      <td>0.000</td>\n",
              "      <td>930.6</td>\n",
              "      <td>0</td>\n",
              "      <td>0.00</td>\n",
              "    </tr>\n",
              "  </tbody>\n",
              "</table>\n",
              "<p>5 rows × 27 columns</p>\n",
              "</div>\n",
              "      <button class=\"colab-df-convert\" onclick=\"convertToInteractive('df-ad4c4e4f-ea81-4720-9f1d-d55b149b4c8f')\"\n",
              "              title=\"Convert this dataframe to an interactive table.\"\n",
              "              style=\"display:none;\">\n",
              "        \n",
              "  <svg xmlns=\"http://www.w3.org/2000/svg\" height=\"24px\"viewBox=\"0 0 24 24\"\n",
              "       width=\"24px\">\n",
              "    <path d=\"M0 0h24v24H0V0z\" fill=\"none\"/>\n",
              "    <path d=\"M18.56 5.44l.94 2.06.94-2.06 2.06-.94-2.06-.94-.94-2.06-.94 2.06-2.06.94zm-11 1L8.5 8.5l.94-2.06 2.06-.94-2.06-.94L8.5 2.5l-.94 2.06-2.06.94zm10 10l.94 2.06.94-2.06 2.06-.94-2.06-.94-.94-2.06-.94 2.06-2.06.94z\"/><path d=\"M17.41 7.96l-1.37-1.37c-.4-.4-.92-.59-1.43-.59-.52 0-1.04.2-1.43.59L10.3 9.45l-7.72 7.72c-.78.78-.78 2.05 0 2.83L4 21.41c.39.39.9.59 1.41.59.51 0 1.02-.2 1.41-.59l7.78-7.78 2.81-2.81c.8-.78.8-2.07 0-2.86zM5.41 20L4 18.59l7.72-7.72 1.47 1.35L5.41 20z\"/>\n",
              "  </svg>\n",
              "      </button>\n",
              "      \n",
              "  <style>\n",
              "    .colab-df-container {\n",
              "      display:flex;\n",
              "      flex-wrap:wrap;\n",
              "      gap: 12px;\n",
              "    }\n",
              "\n",
              "    .colab-df-convert {\n",
              "      background-color: #E8F0FE;\n",
              "      border: none;\n",
              "      border-radius: 50%;\n",
              "      cursor: pointer;\n",
              "      display: none;\n",
              "      fill: #1967D2;\n",
              "      height: 32px;\n",
              "      padding: 0 0 0 0;\n",
              "      width: 32px;\n",
              "    }\n",
              "\n",
              "    .colab-df-convert:hover {\n",
              "      background-color: #E2EBFA;\n",
              "      box-shadow: 0px 1px 2px rgba(60, 64, 67, 0.3), 0px 1px 3px 1px rgba(60, 64, 67, 0.15);\n",
              "      fill: #174EA6;\n",
              "    }\n",
              "\n",
              "    [theme=dark] .colab-df-convert {\n",
              "      background-color: #3B4455;\n",
              "      fill: #D2E3FC;\n",
              "    }\n",
              "\n",
              "    [theme=dark] .colab-df-convert:hover {\n",
              "      background-color: #434B5C;\n",
              "      box-shadow: 0px 1px 3px 1px rgba(0, 0, 0, 0.15);\n",
              "      filter: drop-shadow(0px 1px 2px rgba(0, 0, 0, 0.3));\n",
              "      fill: #FFFFFF;\n",
              "    }\n",
              "  </style>\n",
              "\n",
              "      <script>\n",
              "        const buttonEl =\n",
              "          document.querySelector('#df-ad4c4e4f-ea81-4720-9f1d-d55b149b4c8f button.colab-df-convert');\n",
              "        buttonEl.style.display =\n",
              "          google.colab.kernel.accessAllowed ? 'block' : 'none';\n",
              "\n",
              "        async function convertToInteractive(key) {\n",
              "          const element = document.querySelector('#df-ad4c4e4f-ea81-4720-9f1d-d55b149b4c8f');\n",
              "          const dataTable =\n",
              "            await google.colab.kernel.invokeFunction('convertToInteractive',\n",
              "                                                     [key], {});\n",
              "          if (!dataTable) return;\n",
              "\n",
              "          const docLinkHtml = 'Like what you see? Visit the ' +\n",
              "            '<a target=\"_blank\" href=https://colab.research.google.com/notebooks/data_table.ipynb>data table notebook</a>'\n",
              "            + ' to learn more about interactive tables.';\n",
              "          element.innerHTML = '';\n",
              "          dataTable['output_type'] = 'display_data';\n",
              "          await google.colab.output.renderOutput(dataTable, element);\n",
              "          const docLink = document.createElement('div');\n",
              "          docLink.innerHTML = docLinkHtml;\n",
              "          element.appendChild(docLink);\n",
              "        }\n",
              "      </script>\n",
              "    </div>\n",
              "  </div>\n",
              "  "
            ]
          },
          "metadata": {},
          "execution_count": 9
        }
      ]
    },
    {
      "cell_type": "code",
      "source": [
        "data_posting_table.info()"
      ],
      "metadata": {
        "colab": {
          "base_uri": "https://localhost:8080/"
        },
        "id": "ohO3prtVP8lw",
        "outputId": "2c9a9bd1-3c43-44e2-8de6-b393c12581a8"
      },
      "execution_count": null,
      "outputs": [
        {
          "output_type": "stream",
          "name": "stdout",
          "text": [
            "<class 'pandas.core.frame.DataFrame'>\n",
            "RangeIndex: 4 entries, 0 to 3\n",
            "Data columns (total 4 columns):\n",
            " #   Column              Non-Null Count  Dtype         \n",
            "---  ------              --------------  -----         \n",
            " 0   BUSINESS_DT         4 non-null      datetime64[ns]\n",
            " 1   ACCOUNT_DEBIT_ID    4 non-null      int64         \n",
            " 2   POSTING_AMT         4 non-null      int64         \n",
            " 3   ACCOUNT_CREDIT_ID   4 non-null      int64         \n",
            "dtypes: datetime64[ns](1), int64(3)\n",
            "memory usage: 256.0 bytes\n"
          ]
        }
      ]
    },
    {
      "cell_type": "code",
      "source": [
        "data_clients_info.info()"
      ],
      "metadata": {
        "colab": {
          "base_uri": "https://localhost:8080/"
        },
        "id": "fHcB2wD8sB8h",
        "outputId": "807065a1-f4ec-4043-8352-c3e5ec9a3992"
      },
      "execution_count": null,
      "outputs": [
        {
          "output_type": "stream",
          "name": "stdout",
          "text": [
            "<class 'pandas.core.frame.DataFrame'>\n",
            "RangeIndex: 10 entries, 0 to 9\n",
            "Data columns (total 7 columns):\n",
            " #   Column             Non-Null Count  Dtype         \n",
            "---  ------             --------------  -----         \n",
            " 0   row_id             10 non-null     int64         \n",
            " 1   registration_date  10 non-null     datetime64[ns]\n",
            " 2   fst_name           10 non-null     object        \n",
            " 3   last_name          10 non-null     object        \n",
            " 4   mid_name           10 non-null     object        \n",
            " 5   sex_mf             10 non-null     object        \n",
            " 6   card_no            10 non-null     int64         \n",
            "dtypes: datetime64[ns](1), int64(2), object(4)\n",
            "memory usage: 688.0+ bytes\n"
          ]
        }
      ]
    },
    {
      "cell_type": "code",
      "source": [
        "data_pet_chk_20_pet_chk_21.info()"
      ],
      "metadata": {
        "colab": {
          "base_uri": "https://localhost:8080/"
        },
        "id": "WycGQhI4sCFs",
        "outputId": "8deaa77d-16a8-4749-dba4-caaf229adeb4"
      },
      "execution_count": null,
      "outputs": [
        {
          "output_type": "stream",
          "name": "stdout",
          "text": [
            "<class 'pandas.core.frame.DataFrame'>\n",
            "RangeIndex: 35 entries, 0 to 34\n",
            "Data columns (total 27 columns):\n",
            " #   Column          Non-Null Count  Dtype         \n",
            "---  ------          --------------  -----         \n",
            " 0   card_no         35 non-null     int64         \n",
            " 1   operation_date  35 non-null     datetime64[ns]\n",
            " 2   cheque_id       35 non-null     int64         \n",
            " 3   vol_ai92        11 non-null     float64       \n",
            " 4   vol_ai95        11 non-null     float64       \n",
            " 5   vol_ai98        7 non-null      float64       \n",
            " 6   vol_gaz         8 non-null      float64       \n",
            " 7   vol_diesel      7 non-null      float64       \n",
            " 8   vol_other       6 non-null      float64       \n",
            " 9   wt_ai92         35 non-null     float64       \n",
            " 10  wt_ai95         35 non-null     float64       \n",
            " 11  wt_ai98         35 non-null     float64       \n",
            " 12  wt_gaz          35 non-null     float64       \n",
            " 13  wt_diesel       35 non-null     float64       \n",
            " 14  wt_other        35 non-null     float64       \n",
            " 15  a_ai92          35 non-null     float64       \n",
            " 16  a_ai95          35 non-null     float64       \n",
            " 17  a_ai98          35 non-null     float64       \n",
            " 18  a_gaz           35 non-null     int64         \n",
            " 19  a_diesel        35 non-null     int64         \n",
            " 20  a_other         35 non-null     float64       \n",
            " 21  ta_ai92         35 non-null     float64       \n",
            " 22  ta_ai95         35 non-null     float64       \n",
            " 23  ta_ai98         35 non-null     float64       \n",
            " 24  ta_gaz          35 non-null     float64       \n",
            " 25  ta_diesel       35 non-null     int64         \n",
            " 26  ta_other        35 non-null     float64       \n",
            "dtypes: datetime64[ns](1), float64(21), int64(5)\n",
            "memory usage: 7.5 KB\n"
          ]
        }
      ]
    },
    {
      "cell_type": "code",
      "source": [
        "data_posting_table.columns\n"
      ],
      "metadata": {
        "colab": {
          "base_uri": "https://localhost:8080/"
        },
        "id": "cTzh-DxjQeBZ",
        "outputId": "b61bfe6e-441b-473b-f6e7-f6f8cdf7fb3c"
      },
      "execution_count": null,
      "outputs": [
        {
          "output_type": "execute_result",
          "data": {
            "text/plain": [
              "Index(['BUSINESS_DT ', 'ACCOUNT_DEBIT_ID ', 'POSTING_AMT ',\n",
              "       'ACCOUNT_CREDIT_ID '],\n",
              "      dtype='object')"
            ]
          },
          "metadata": {},
          "execution_count": 13
        }
      ]
    },
    {
      "cell_type": "code",
      "source": [
        "data_clients_info.columns"
      ],
      "metadata": {
        "colab": {
          "base_uri": "https://localhost:8080/"
        },
        "id": "QEdQ34n6sP8V",
        "outputId": "1a20b3ab-450e-4c45-830c-7cf79a9f413e"
      },
      "execution_count": null,
      "outputs": [
        {
          "output_type": "execute_result",
          "data": {
            "text/plain": [
              "Index(['row_id', 'registration_date', 'fst_name', 'last_name', 'mid_name',\n",
              "       'sex_mf', 'card_no'],\n",
              "      dtype='object')"
            ]
          },
          "metadata": {},
          "execution_count": 14
        }
      ]
    },
    {
      "cell_type": "code",
      "source": [
        "data_pet_chk_20_pet_chk_21.columns"
      ],
      "metadata": {
        "colab": {
          "base_uri": "https://localhost:8080/"
        },
        "id": "iaSIdfKMsP-w",
        "outputId": "84635693-7ee4-4aad-a5ed-814c6f58bcbb"
      },
      "execution_count": null,
      "outputs": [
        {
          "output_type": "execute_result",
          "data": {
            "text/plain": [
              "Index(['card_no', 'operation_date', 'cheque_id', 'vol_ai92', 'vol_ai95',\n",
              "       'vol_ai98', 'vol_gaz', 'vol_diesel', 'vol_other', 'wt_ai92', 'wt_ai95',\n",
              "       'wt_ai98', 'wt_gaz', 'wt_diesel', 'wt_other', 'a_ai92', 'a_ai95',\n",
              "       'a_ai98', 'a_gaz', 'a_diesel', 'a_other', 'ta_ai92', 'ta_ai95',\n",
              "       'ta_ai98', 'ta_gaz', 'ta_diesel', 'ta_other'],\n",
              "      dtype='object')"
            ]
          },
          "metadata": {},
          "execution_count": 15
        }
      ]
    },
    {
      "cell_type": "code",
      "source": [
        "data_posting_table.rename(columns = {'BUSINESS_DT ':'BUSINESS_DT',\n",
        "                     'ACCOUNT_DEBIT_ID ':'ACCOUNT_DEBIT_ID',\n",
        "                     'POSTING_AMT ':'POSTING_AMT',\n",
        "                     'ACCOUNT_CREDIT_ID ':'ACCOUNT_CREDIT_ID'}, inplace = True )"
      ],
      "metadata": {
        "id": "s7XBlVsjQ02m"
      },
      "execution_count": null,
      "outputs": []
    },
    {
      "cell_type": "code",
      "source": [
        "data_posting_table.columns"
      ],
      "metadata": {
        "colab": {
          "base_uri": "https://localhost:8080/"
        },
        "id": "2OVein8ER5YX",
        "outputId": "01450628-9437-4a8e-a202-76c303a361c4"
      },
      "execution_count": null,
      "outputs": [
        {
          "output_type": "execute_result",
          "data": {
            "text/plain": [
              "Index(['BUSINESS_DT', 'ACCOUNT_DEBIT_ID', 'POSTING_AMT', 'ACCOUNT_CREDIT_ID'], dtype='object')"
            ]
          },
          "metadata": {},
          "execution_count": 17
        }
      ]
    },
    {
      "cell_type": "code",
      "source": [
        "posting_table = data_posting_table.to_csv('posting_table.csv')\n",
        "clients_info = data_clients_info.to_csv('clients_info.csv')\n",
        "pet_chk_20_pet_chk_21 = data_pet_chk_20_pet_chk_21.to_csv('pet_chk_20_pet_chk_21.csv')"
      ],
      "metadata": {
        "id": "e0k_X0-YS4ZP"
      },
      "execution_count": null,
      "outputs": []
    },
    {
      "cell_type": "markdown",
      "source": [
        "## SQL запросы"
      ],
      "metadata": {
        "id": "RMeZvE5wvRAk"
      }
    },
    {
      "cell_type": "code",
      "source": [
        "# загрузка данных\n",
        "posting_table = spark.read.load('/content/drive/My Drive/Colab Notebooks/КАРЬЕРНЫЙ ТРЕК/11.01 Data Scientist (ЛУКОЙЛ)/posting_table.csv',\n",
        "                       format='csv', header='true', inferSchema='true').createOrReplaceTempView('posting_table')"
      ],
      "metadata": {
        "id": "mZ06UO3Qujdc"
      },
      "execution_count": null,
      "outputs": []
    },
    {
      "cell_type": "code",
      "source": [
        "spark.sql(\n",
        "    \"SELECT *\\\n",
        "    FROM posting_table\"\n",
        "    ).show()"
      ],
      "metadata": {
        "colab": {
          "base_uri": "https://localhost:8080/"
        },
        "id": "J-1fFC3fwc4c",
        "outputId": "3074c824-eb9c-4b1d-987d-4c58f32cbbfd"
      },
      "execution_count": null,
      "outputs": [
        {
          "output_type": "stream",
          "name": "stdout",
          "text": [
            "+---+-------------------+----------------+-----------+-----------------+\n",
            "|_c0|        BUSINESS_DT|ACCOUNT_DEBIT_ID|POSTING_AMT|ACCOUNT_CREDIT_ID|\n",
            "+---+-------------------+----------------+-----------+-----------------+\n",
            "|  0|2020-01-01 00:00:00|               1|       1000|                2|\n",
            "|  1|2020-01-05 00:00:00|               2|        500|                1|\n",
            "|  2|2020-02-04 00:00:00|               2|        500|                1|\n",
            "|  3|2020-03-04 00:00:00|               1|       1000|                2|\n",
            "+---+-------------------+----------------+-----------+-----------------+\n",
            "\n"
          ]
        }
      ]
    },
    {
      "cell_type": "markdown",
      "source": [
        "### 1. Написать SQL-запрос, который на основании таблицы проводок рассчитает остатки по счетам на текущую дату. Начальные остатки по всем счетам полагаем равными нулю. Таблица должна состоять из следующих столбцов:\n",
        "\n",
        "*\tAccount_ID – идентификатор счета\n",
        "* Current_Date – дата, на которую посчитан остаток\n",
        "*\tAccount_Balance – остаток на счете, может быть отрицательным.\n",
        "\n",
        "За идентификатор счета берем значения счета дебита, далее мы определяем командой текущую дату и после этого подсчитываем остаток на счете\n"
      ],
      "metadata": {
        "id": "jcYvL3raj6Qm"
      }
    },
    {
      "cell_type": "markdown",
      "source": [
        "**SQL-запрос, который на основании таблицы проводок рассчитает остатки по счетам на текущую дату:**"
      ],
      "metadata": {
        "id": "0ss3wxiZWc1N"
      }
    },
    {
      "cell_type": "code",
      "source": [
        "%%time\n",
        "spark.sql(\n",
        "    \"WITH\\\n",
        "    s1 AS (SELECT CAST(BUSINESS_DT AS date) AS DT, ACCOUNT_CREDIT_ID AS Account_ID, POSTING_AMT AS Money\\\n",
        "    FROM posting_table\\\n",
        "    UNION ALL\\\n",
        "    SELECT CAST(BUSINESS_DT AS date) AS DT, ACCOUNT_DEBIT_ID AS AccountID, POSTING_AMT *  (-1) AS Money\\\n",
        "    FROM posting_table)\\\n",
        "    \\\n",
        "    SELECT Account_ID, DT AS Current_Date,\\\n",
        "    SUM(Money) OVER(PARTITION BY Account_ID ORDER BY DT) AS Account_Balance\\\n",
        "    FROM s1\\\n",
        "    ORDER BY DT\"\n",
        "    ).show()"
      ],
      "metadata": {
        "colab": {
          "base_uri": "https://localhost:8080/"
        },
        "id": "PIXNC44E8I_X",
        "outputId": "4870941d-6c84-444a-fdbb-b10a35a57a8f"
      },
      "execution_count": null,
      "outputs": [
        {
          "output_type": "stream",
          "name": "stdout",
          "text": [
            "+----------+------------+---------------+\n",
            "|Account_ID|Current_Date|Account_Balance|\n",
            "+----------+------------+---------------+\n",
            "|         1|  2020-01-01|          -1000|\n",
            "|         2|  2020-01-01|           1000|\n",
            "|         1|  2020-01-05|           -500|\n",
            "|         2|  2020-01-05|            500|\n",
            "|         1|  2020-02-04|              0|\n",
            "|         2|  2020-02-04|              0|\n",
            "|         1|  2020-03-04|          -1000|\n",
            "|         2|  2020-03-04|           1000|\n",
            "+----------+------------+---------------+\n",
            "\n",
            "CPU times: user 12.6 ms, sys: 1.58 ms, total: 14.2 ms\n",
            "Wall time: 1.04 s\n"
          ]
        }
      ]
    },
    {
      "cell_type": "markdown",
      "source": [
        "### 2. Написать SQL-запрос, который выводит таблицу остатков за весь период, за который нам известны проводки (например, с января по март). Начальные остатки по всем счетам полагаем равными нулю. Таблица должна состоять из следующих столбцов:\n",
        "\n",
        "* Account_ID – идентификатор счета\n",
        "* Business_From_DT – дата, начиная с которой (включительно) сформировался указанный остаток на счете.\n",
        "* Business_To_DT – дата, по которую (включительно) на счете находится указанный остаток. Если остаток действует по текущий момент (дата следующего изменения остатка не известна), то поле следует заполнить датой 9999-12-31.\n",
        "* Account_Balance – остаток на счете Account_ID в период с Business_From_DT по Business_To_DT включительно.\n",
        "\n",
        "Например, на счете 2 был остаток в 1000 рублей, начиная с 01.01.2020 по 04.01.2020 включительно (5-го числа остаток уже поменялся).\n"
      ],
      "metadata": {
        "id": "Cu8srn8skOo9"
      }
    },
    {
      "cell_type": "markdown",
      "source": [
        "**SQL-запрос, который выводит таблицу остатков за весь период, за который нам известны проводки (например, с января по март):**"
      ],
      "metadata": {
        "id": "DAXiThFzRhqq"
      }
    },
    {
      "cell_type": "code",
      "source": [
        "%%time\n",
        "spark.sql(\n",
        "    \"WITH\\\n",
        "    s2 AS (WITH\\\n",
        "    s1 AS (SELECT CAST(BUSINESS_DT AS date) AS DT, ACCOUNT_CREDIT_ID AS Account_ID, POSTING_AMT AS Money\\\n",
        "    FROM posting_table\\\n",
        "    UNION ALL\\\n",
        "    SELECT CAST(BUSINESS_DT AS date) AS DT, ACCOUNT_DEBIT_ID AS AccountID, POSTING_AMT *  (-1) AS Money\\\n",
        "    FROM posting_table)\\\n",
        "    \\\n",
        "    SELECT Account_ID, DT AS Current_Date,\\\n",
        "    SUM(Money) OVER(PARTITION BY Account_ID ORDER BY DT) AS Account_Balance\\\n",
        "    FROM s1\\\n",
        "    ORDER BY DT)\\\n",
        "    \\\n",
        "    SELECT Account_ID,\\\n",
        "    Current_Date AS Business_From_DT,\\\n",
        "    LEAD(Current_Date, 1, '10000-01-01') OVER(PARTITION BY Account_ID ORDER BY Current_Date) - 1 AS Business_To_DT ,\\\n",
        "    Account_Balance\\\n",
        "    FROM s2\\\n",
        "    ORDER BY Business_From_DT\"\n",
        "    ).show()"
      ],
      "metadata": {
        "colab": {
          "base_uri": "https://localhost:8080/"
        },
        "id": "JHAsGm40xgqa",
        "outputId": "3b488fdb-6a1c-4d37-b8b4-2e2e0b2752c8"
      },
      "execution_count": null,
      "outputs": [
        {
          "output_type": "stream",
          "name": "stdout",
          "text": [
            "+----------+----------------+--------------+---------------+\n",
            "|Account_ID|Business_From_DT|Business_To_DT|Account_Balance|\n",
            "+----------+----------------+--------------+---------------+\n",
            "|         1|      2020-01-01|    2020-01-04|          -1000|\n",
            "|         2|      2020-01-01|    2020-01-04|           1000|\n",
            "|         1|      2020-01-05|    2020-02-03|           -500|\n",
            "|         2|      2020-01-05|    2020-02-03|            500|\n",
            "|         1|      2020-02-04|    2020-03-03|              0|\n",
            "|         2|      2020-02-04|    2020-03-03|              0|\n",
            "|         1|      2020-03-04|    9999-12-31|          -1000|\n",
            "|         2|      2020-03-04|    9999-12-31|           1000|\n",
            "+----------+----------------+--------------+---------------+\n",
            "\n",
            "CPU times: user 11.1 ms, sys: 6.09 ms, total: 17.2 ms\n",
            "Wall time: 1.81 s\n"
          ]
        }
      ]
    },
    {
      "cell_type": "markdown",
      "source": [
        "### 3. Написать SQL запрос, который выведет остатки на каждый день за период с января по март. Т.е. по каждому счету таблица должна содержать около 90 записей. Начальные остатки по всем счетам полагаем равными нулю. Столбцы таблицы:\n",
        "\n",
        "* Account_ID – идентификатор счета\n",
        "* Business_Date – дата, на которую посчитан остаток\n",
        "* Account_Balance – остаток на счете, может быть отрицательным.\n",
        "\n",
        "Например, по счету 2 должны быть такие записи:\n",
        "\n",
        "* 2, 2020-01-01, 1000\n",
        "* 2, 2020-01-02, 1000\n",
        "* 2, 2020-01-03, 1000\n",
        "* 2, 2020-01-04, 1000\n",
        "* 2, 2020-01-05, 500\n",
        "\n",
        "И т.д.\n"
      ],
      "metadata": {
        "id": "akz59y2jki72"
      }
    },
    {
      "cell_type": "code",
      "source": [
        "# кадр дат с '2020-01-01' по '2020-03-04'\n",
        "tab_a = spark.sql(\"SELECT sequence(to_date('2020-01-01'), to_date('2020-03-04'), interval 1 day) as date\")\\\n",
        ".withColumn(\"date\", explode(col(\"date\")))"
      ],
      "metadata": {
        "id": "yuYLwNBb2smU"
      },
      "execution_count": null,
      "outputs": []
    },
    {
      "cell_type": "code",
      "source": [
        "# вывод кадра дат\n",
        "tab_a.show()"
      ],
      "metadata": {
        "colab": {
          "base_uri": "https://localhost:8080/"
        },
        "id": "GFseGbXx67Pt",
        "outputId": "3f99541b-14d1-47da-fd0a-4d360f7dc7f7"
      },
      "execution_count": null,
      "outputs": [
        {
          "output_type": "stream",
          "name": "stdout",
          "text": [
            "+----------+\n",
            "|      date|\n",
            "+----------+\n",
            "|2020-01-01|\n",
            "|2020-01-02|\n",
            "|2020-01-03|\n",
            "|2020-01-04|\n",
            "|2020-01-05|\n",
            "|2020-01-06|\n",
            "|2020-01-07|\n",
            "|2020-01-08|\n",
            "|2020-01-09|\n",
            "|2020-01-10|\n",
            "|2020-01-11|\n",
            "|2020-01-12|\n",
            "|2020-01-13|\n",
            "|2020-01-14|\n",
            "|2020-01-15|\n",
            "|2020-01-16|\n",
            "|2020-01-17|\n",
            "|2020-01-18|\n",
            "|2020-01-19|\n",
            "|2020-01-20|\n",
            "+----------+\n",
            "only showing top 20 rows\n",
            "\n"
          ]
        }
      ]
    },
    {
      "cell_type": "code",
      "source": [
        "# загрузка фрейма дат в spark\n",
        "DT_tab = spark.read.load('/content/drive/My Drive/Colab Notebooks/КАРЬЕРНЫЙ ТРЕК/11.01 Data Scientist (ЛУКОЙЛ)/DT_tab.csv',\n",
        "                       format='csv', header='true', inferSchema='true').createOrReplaceTempView('DT_tab')"
      ],
      "metadata": {
        "id": "rNxJ6aMBG8i5"
      },
      "execution_count": null,
      "outputs": []
    },
    {
      "cell_type": "markdown",
      "source": [
        "**SQL запрос, который выведет остатки на каждый день за период с января по март:**"
      ],
      "metadata": {
        "id": "RPoCzNYVRN0h"
      }
    },
    {
      "cell_type": "code",
      "source": [
        "%%time\n",
        "spark.sql(\n",
        "    \"WITH\\\n",
        "    s4 AS (WITH\\\n",
        "    s2 AS (WITH\\\n",
        "    s1 AS (SELECT CAST(BUSINESS_DT AS date) AS DT, ACCOUNT_CREDIT_ID AS Account_ID, POSTING_AMT AS Money\\\n",
        "    FROM posting_table\\\n",
        "    UNION ALL\\\n",
        "    SELECT CAST(BUSINESS_DT AS date) AS DT, ACCOUNT_DEBIT_ID AS AccountID, POSTING_AMT *  (-1) AS Money\\\n",
        "    FROM posting_table)\\\n",
        "    \\\n",
        "    SELECT Account_ID, DT AS Current_Date,\\\n",
        "    SUM(Money) OVER(ORDER BY DT) AS Account_Balance\\\n",
        "    FROM s1\\\n",
        "    WHERE Account_ID = 1\\\n",
        "    ORDER BY Current_Date),\\\n",
        "    \\\n",
        "    s3 AS (SELECT *\\\n",
        "    FROM DT_tab)\\\n",
        "    \\\n",
        "    SELECT CAST(s3.date AS date) AS Current_Date,\\\n",
        "    s2.Account_ID, s2.Account_Balance\\\n",
        "    FROM s3\\\n",
        "    FULL JOIN s2 ON s2.Current_Date=s3.date)\\\n",
        "    \\\n",
        "    SELECT Current_Date,\\\n",
        "    LAG(Account_ID, 1, 1) OVER(PARTITION BY Current_Date ORDER BY Current_Date) AS Account_ID,\\\n",
        "    LAST_VALUE(Account_Balance) IGNORE NULLS OVER (ORDER BY Current_Date) AS Account_Balance_now\\\n",
        "    FROM s4\"\n",
        "    ).show()\n",
        "\n",
        "    # ПРИМЕЧАНИЕ:\n",
        "    # Для просмотра выгрузки по кошельку 2 достаточно поменять в 13, 24 строках\n",
        "    # 'WHERE Account_ID = 1' на 'WHERE Account_ID = 2' и LAG(Account_ID, 1, 1) на LAG(Account_ID, 1, 2)"
      ],
      "metadata": {
        "colab": {
          "base_uri": "https://localhost:8080/"
        },
        "id": "qQyEkmC9V65P",
        "outputId": "00b4bb6b-661f-40d0-8e07-1b46b1b393f8"
      },
      "execution_count": null,
      "outputs": [
        {
          "output_type": "stream",
          "name": "stdout",
          "text": [
            "+------------+----------+-------------------+\n",
            "|Current_Date|Account_ID|Account_Balance_now|\n",
            "+------------+----------+-------------------+\n",
            "|  2020-01-01|         1|              -1000|\n",
            "|  2020-01-02|         1|              -1000|\n",
            "|  2020-01-03|         1|              -1000|\n",
            "|  2020-01-04|         1|              -1000|\n",
            "|  2020-01-05|         1|               -500|\n",
            "|  2020-01-06|         1|               -500|\n",
            "|  2020-01-07|         1|               -500|\n",
            "|  2020-01-08|         1|               -500|\n",
            "|  2020-01-09|         1|               -500|\n",
            "|  2020-01-10|         1|               -500|\n",
            "|  2020-01-11|         1|               -500|\n",
            "|  2020-01-12|         1|               -500|\n",
            "|  2020-01-13|         1|               -500|\n",
            "|  2020-01-14|         1|               -500|\n",
            "|  2020-01-15|         1|               -500|\n",
            "|  2020-01-16|         1|               -500|\n",
            "|  2020-01-17|         1|               -500|\n",
            "|  2020-01-18|         1|               -500|\n",
            "|  2020-01-19|         1|               -500|\n",
            "|  2020-01-20|         1|               -500|\n",
            "+------------+----------+-------------------+\n",
            "only showing top 20 rows\n",
            "\n",
            "CPU times: user 17.5 ms, sys: 1.27 ms, total: 18.8 ms\n",
            "Wall time: 2.15 s\n"
          ]
        }
      ]
    },
    {
      "cell_type": "markdown",
      "source": [
        "### 4. Структура данных в таблицах схемы public:\n",
        "\n",
        "*pet_chk_20, pet_chk_21 - данные по реализации: чеки агрегированные - только карты лояльности*\n",
        "\n",
        "* card_no\t- Номер карты\n",
        "* org_ksss - КССС АЗС\n",
        "* npo\t- НПО\n",
        "* org_name\t- АЗС\n",
        "* dt\t- Дата\n",
        "* operation_date\t- Дата/Время\n",
        "* cheque_id\t- ID чека\n",
        "* cnt_pos\t- Количество позиций в чеке\n",
        "* cnt_pos_ntu\t- Количество позиций в чеке НТУ\n",
        "* cnt_pos_fuel\t- Количество позиций в чеке Топлива\n",
        "* cnt_pos_ai92\t- Количество позиций в чеке Топлива АИ-92\n",
        "* cnt_pos_ai95\t- Количество позиций в чеке Топлива АИ-95\n",
        "* cnt_pos_ai98\t- Количество позиций в чеке Топлива АИ-98\n",
        "* cnt_pos_gaz\t- Количество позиций в чеке Топлива СУГ\n",
        "* cnt_pos_diesel\t- Количество позиций в чеке Топлива Дизель\n",
        "* cnt_pos_other\t- Количество позиций в чеке Топлива Другое\n",
        "* cnt_unq\t- Количество уникальных товаров\n",
        "* cnt_unq_ntu\t- Количество уникальных товаров НТУ\n",
        "* cnt_unq_fuel\t- Количество уникальных товаров Топлива\n",
        "* qnt\t- Количество товаров НТУ\n",
        "* ltr_vol\t- Количество литров Топлива\n",
        "* vol_ai92\t- Количество литров Топлива АИ-92\n",
        "* vol_ai95\t- Количество литров Топлива АИ-95\n",
        "* vol_ai98\t- Количество литров Топлива АИ-98\n",
        "* vol_gaz\t- Количество литров Топлива СУГ\n",
        "* vol_diesel\t- Количество литров Топлива Дизель\n",
        "* vol_other\t- Количество литров Топлива Другое\n",
        "* weight\t- Вес\n",
        "* wt_ntu\t- Вес НТУ\n",
        "* wt_ai92\t- Вес Топлива АИ-92\n",
        "* wt_ai95\t- Вес Топлива АИ-95\n",
        "* wt_ai98\t- Вес Топлива АИ-98\n",
        "* wt_gaz\t- Вес Топлива СУГ\n",
        "* wt_diesel\t- Вес Топлива Дизель\n",
        "* wt_other\t- Вес Топлива Другое\n",
        "* amount\t- Сумма без скидки\n",
        "* a_ntu\t- Сумма без скидки НТУ\n",
        "* a_fuel\t- Сумма без скидки Топлива\n",
        "* a_ai92\t- Сумма без скидки Топлива АИ-92\n",
        "* a_ai95\t- Сумма без скидки Топлива АИ-95\n",
        "* a_ai98\t- Сумма без скидки Топлива АИ-98\n",
        "* a_gaz\t- Сумма без скидки Топлива СУГ\n",
        "* a_diesel\t- Сумма без скидки Топлива Дизель\n",
        "* a_other\t- Сумма без скидки Топлива Другое\n",
        "* target_amount\t- Сумма с скидкой\n",
        "* ta_ntu\t- Сумма с скидкой НТУ\n",
        "* ta_fuel\t- Сумма с скидкой Топлива\n",
        "* ta_ai92\t- Сумма с скидкой Топлива АИ-92\n",
        "* ta_ai95\t- Сумма с скидкой Топлива АИ-95\n",
        "* ta_ai98\t- Сумма с скидкой Топлива АИ-98\n",
        "* ta_gaz\t- Сумма с скидкой Топлива СУГ\n",
        "* ta_diesel\t- Сумма с скидкой Топлива Дизель\n",
        "* ta_other\t- Сумма с скидкой Топлива Другое\n",
        "\n",
        "*clients_info – персональные данные о клиенте программы лояльности*\n",
        "\n",
        "* row_id\t- id записи\n",
        "* registration_date\t- дата регистрации\n",
        "* fst_name\t- фамилия\n",
        "* last_name\t- имя\n",
        "* mid_name\t- отчество\n",
        "* sex_mf\t- пол\n",
        "* birth_dt\t- дата рождения\n",
        "* card_no\t- номер кл\n",
        "* phone_num\t- номер мобильного телефона\n",
        "* sms_agreement\t- согласие на смс\n",
        "* email_addr\t- адрес электронной почты\n",
        "* email_agreement\t- согласие на email рассылку\n",
        "* push_agreement\t- согласие на пуш уведомления\n",
        "* LAST_UPD\t- дата последнего обновления\n",
        "\n",
        "pet_chk_20.card_no = pet_chk_21.card_no = clients_info.card_no\n",
        "\n",
        "*Задания:*\n",
        "\n",
        "1. Распределение реализации по видам топлива по Картам Лояльности в 2020 и 2021 гг.\n",
        "2. Определить средний чек в литрах по клиентам программы лояльности в разрезе полового признака в 2021г.\n",
        "3. Выгрузить распределение количества чеков по клиентам программы лояльности шагом в 50 литров в январе 2021 года.\n"
      ],
      "metadata": {
        "id": "MCNd-r1SlRem"
      }
    },
    {
      "cell_type": "code",
      "source": [
        "# загрузка clients_info\n",
        "clients_info = spark.read.load('/content/drive/My Drive/Colab Notebooks/КАРЬЕРНЫЙ ТРЕК/11.01 Data Scientist (ЛУКОЙЛ)/clients_info.csv',\n",
        "                       format='csv', header='true', inferSchema='true').createOrReplaceTempView('clients_info')"
      ],
      "metadata": {
        "id": "yl9TU4j9ZlNG"
      },
      "execution_count": null,
      "outputs": []
    },
    {
      "cell_type": "code",
      "source": [
        "# загрузка pet_chk_20_pet_chk_21\n",
        "pet_chk_20_pet_chk_21 = spark.read.load('/content/drive/My Drive/Colab Notebooks/КАРЬЕРНЫЙ ТРЕК/11.01 Data Scientist (ЛУКОЙЛ)/pet_chk_20_pet_chk_21.csv',\n",
        "                       format='csv', header='true', inferSchema='true').createOrReplaceTempView('pet_chk_20_pet_chk_21')"
      ],
      "metadata": {
        "id": "qJtW49TWZlPt"
      },
      "execution_count": null,
      "outputs": []
    },
    {
      "cell_type": "code",
      "source": [
        "# вывод clients_info\n",
        "spark.sql(\n",
        "    \"SELECT *\\\n",
        "    FROM clients_info\"\n",
        "    ).show()"
      ],
      "metadata": {
        "id": "AypkohbfZlSK",
        "colab": {
          "base_uri": "https://localhost:8080/"
        },
        "outputId": "a976c4fc-13ed-4c31-eac8-14a3c7604c05"
      },
      "execution_count": null,
      "outputs": [
        {
          "output_type": "stream",
          "name": "stdout",
          "text": [
            "+---+------+-------------------+---------+---------+----------+------+-------+\n",
            "|_c0|row_id|  registration_date| fst_name|last_name|  mid_name|sex_mf|card_no|\n",
            "+---+------+-------------------+---------+---------+----------+------+-------+\n",
            "|  0|     1|2019-04-01 00:00:00|   Иванов|     Петр| Сергеевич|  male|2675354|\n",
            "|  1|     2|2019-05-02 00:00:00|   Петров|   Сергей|  Иванович|  male|2675355|\n",
            "|  2|     3|2018-06-03 00:00:00|  Семенов|    Семен| Семенович|  male|2675356|\n",
            "|  3|     4|2017-07-05 00:00:00|  Сергеев|     Иван|  Петрович|  male|2675357|\n",
            "|  4|     5|2016-08-06 00:00:00| Синицина|    Ольга|  Ивановна|female|2675358|\n",
            "|  5|     6|2019-04-01 00:00:00| Клещеева| Наталья |  Петровна|female|2675359|\n",
            "|  6|     7|2015-05-02 00:00:00|Дявяткина| Светлана| Семеновна|female|2675360|\n",
            "|  7|     8|2018-01-07 00:00:00| Харламов|Александр|  Иванович|  male|2675361|\n",
            "|  8|     9|2015-09-14 00:00:00|  Кошкина|   Дарья |Николаевна|female|2675362|\n",
            "|  9|    10|2013-05-21 00:00:00| Дергунов|   Артем | Сергеевич|  male|2675363|\n",
            "+---+------+-------------------+---------+---------+----------+------+-------+\n",
            "\n"
          ]
        }
      ]
    },
    {
      "cell_type": "code",
      "source": [
        "# вывод pet_chk_20_pet_chk_21\n",
        "spark.sql(\n",
        "    \"SELECT *\\\n",
        "    FROM pet_chk_20_pet_chk_21\\\n",
        "    LIMIT(3)\"\n",
        "    ).show()"
      ],
      "metadata": {
        "colab": {
          "base_uri": "https://localhost:8080/"
        },
        "id": "hOOYfzlOv_f-",
        "outputId": "c381222d-8625-4d18-9053-6e81c0811945"
      },
      "execution_count": null,
      "outputs": [
        {
          "output_type": "stream",
          "name": "stdout",
          "text": [
            "+---+-------+-------------------+---------+--------+--------+--------+-------+----------+---------+-------+-------+-----------------+------------------+---------+--------+------+------+------+-----+--------+-------+-------+-------+-------+------+---------+--------+\n",
            "|_c0|card_no|     operation_date|cheque_id|vol_ai92|vol_ai95|vol_ai98|vol_gaz|vol_diesel|vol_other|wt_ai92|wt_ai95|          wt_ai98|            wt_gaz|wt_diesel|wt_other|a_ai92|a_ai95|a_ai98|a_gaz|a_diesel|a_other|ta_ai92|ta_ai95|ta_ai98|ta_gaz|ta_diesel|ta_other|\n",
            "+---+-------+-------------------+---------+--------+--------+--------+-------+----------+---------+-------+-------+-----------------+------------------+---------+--------+------+------+------+-----+--------+-------+-------+-------+-------+------+---------+--------+\n",
            "|  0|2675354|2020-01-01 00:00:00|        1|    null|    null|    null|   null|      null|     10.0|    0.0|    0.0|              0.0|               0.0|      0.0|     7.4|   0.0|   0.0|   0.0|    0|       0|  377.0|    0.0|    0.0|    0.0|   0.0|        0|  369.46|\n",
            "|  1|2675355|2020-01-02 00:00:00|        2|    null|    null|    null|   40.0|      null|     null|    0.0|    0.0|              0.0|22.400000000000002|      0.0|     0.0|   0.0|   0.0|   0.0|  940|       0|    0.0|    0.0|    0.0|    0.0| 930.6|        0|     0.0|\n",
            "|  2|2675356|2020-01-03 00:00:00|        3|    null|    null|    10.0|   null|      null|     null|    0.0|    0.0|7.800000000000001|               0.0|      0.0|     0.0|   0.0|   0.0| 639.9|    0|       0|    0.0|    0.0|    0.0|614.304|   0.0|        0|     0.0|\n",
            "+---+-------+-------------------+---------+--------+--------+--------+-------+----------+---------+-------+-------+-----------------+------------------+---------+--------+------+------+------+-----+--------+-------+-------+-------+-------+------+---------+--------+\n",
            "\n"
          ]
        }
      ]
    },
    {
      "cell_type": "markdown",
      "source": [
        "**1)\tРаспределение реализации по видам топлива по Картам Лояльности в 2020 и 2021 гг.**"
      ],
      "metadata": {
        "id": "x9hs3qeKLLTd"
      }
    },
    {
      "cell_type": "code",
      "source": [
        "spark.sql(\n",
        "    \"SELECT card_no, EXTRACT(year FROM CAST(operation_date AS date)) AS on_years,\\\n",
        "    ROUND(SUM(ta_ai92), 2) AS realiz_in_rub_ai92,\\\n",
        "    ROUND(SUM(ta_ai95), 2) AS realiz_in_rub_ai95,\\\n",
        "    ROUND(SUM(ta_ai98), 2) AS realiz_in_rub_ai98,\\\n",
        "    ROUND(SUM(ta_gaz), 2) AS realiz_in_rub_gaz,\\\n",
        "    ROUND(SUM(ta_diesel), 2) AS realiz_in_rub_diesel,\\\n",
        "    ROUND(SUM(ta_other), 2) AS realiz_in_rub_other\\\n",
        "    FROM pet_chk_20_pet_chk_21\\\n",
        "    GROUP BY on_years, card_no\\\n",
        "    ORDER BY on_years\"\n",
        "    ).show()"
      ],
      "metadata": {
        "colab": {
          "base_uri": "https://localhost:8080/"
        },
        "id": "hBjVXIaZJrsN",
        "outputId": "f8d5798c-5da0-48ca-d72b-7f0731c8b329"
      },
      "execution_count": null,
      "outputs": [
        {
          "output_type": "stream",
          "name": "stdout",
          "text": [
            "+-------+--------+------------------+------------------+------------------+-----------------+--------------------+-------------------+\n",
            "|card_no|on_years|realiz_in_rub_ai92|realiz_in_rub_ai95|realiz_in_rub_ai98|realiz_in_rub_gaz|realiz_in_rub_diesel|realiz_in_rub_other|\n",
            "+-------+--------+------------------+------------------+------------------+-----------------+--------------------+-------------------+\n",
            "|2675363|    2020|               0.0|               0.0|               0.0|              0.0|                   0|             738.92|\n",
            "|2675361|    2020|            1901.2|            2043.6|               0.0|              0.0|                   0|                0.0|\n",
            "|2675360|    2020|               0.0|               0.0|               0.0|            930.6|                   0|                0.0|\n",
            "|2675355|    2020|               0.0|               0.0|               0.0|            930.6|                   0|                0.0|\n",
            "|2675362|    2020|               0.0|               0.0|               0.0|              0.0|                2156|                0.0|\n",
            "|2675356|    2020|               0.0|               0.0|             614.3|              0.0|                   0|                0.0|\n",
            "|2675358|    2020|               0.0|               0.0|           3071.52|            930.6|                1078|                0.0|\n",
            "|2675359|    2020|               0.0|               0.0|               0.0|              0.0|                2156|                0.0|\n",
            "|2675354|    2020|               0.0|               0.0|               0.0|              0.0|                   0|             369.46|\n",
            "|2675357|    2020|           6939.38|           7459.13|               0.0|            930.6|                   0|                0.0|\n",
            "|2675361|    2021|             950.6|            1021.8|               0.0|              0.0|                   0|                0.0|\n",
            "|2675369|    2021|               0.0|               0.0|               0.0|          1163.25|                   0|                0.0|\n",
            "|2675362|    2021|            2376.5|            2554.5|               0.0|              0.0|                   0|                0.0|\n",
            "|2675359|    2021|               0.0|               0.0|               0.0|              0.0|                2156|            1108.38|\n",
            "|2675360|    2021|               0.0|               0.0|               0.0|           697.95|                   0|                0.0|\n",
            "|2675367|    2021|               0.0|               0.0|               0.0|            930.6|                   0|                0.0|\n",
            "|2675366|    2021|               0.0|               0.0|               0.0|              0.0|                2156|                0.0|\n",
            "|2675358|    2021|           4261.86|           4581.06|           9521.71|              0.0|                3773|            2216.76|\n",
            "|2675363|    2021|           2138.85|           2299.05|           3071.52|           697.95|                   0|                0.0|\n",
            "|2675368|    2021|           1771.06|           1903.71|               0.0|              0.0|                   0|                0.0|\n",
            "+-------+--------+------------------+------------------+------------------+-----------------+--------------------+-------------------+\n",
            "only showing top 20 rows\n",
            "\n"
          ]
        }
      ]
    },
    {
      "cell_type": "markdown",
      "source": [
        "**2)\tОпределить средний чек в литрах по клиентам программы лояльности в разрезе полового признака в 2021 г.**"
      ],
      "metadata": {
        "id": "-LTG0ub8ZSmu"
      }
    },
    {
      "cell_type": "code",
      "source": [
        "spark.sql(\n",
        "    \"WITH\\\n",
        "    s1 AS (SELECT card_no,\\\n",
        "    EXTRACT(year FROM CAST(operation_date AS date)) AS on_years,\\\n",
        "    ROUND(AVG(vol_ai92), 2) AS avg_check_in_l_ai92,\\\n",
        "    ROUND(AVG(vol_ai95), 2) AS avg_check_in_l_ai95,\\\n",
        "    ROUND(AVG(vol_ai98), 2) AS avg_check_in_l_ai98,\\\n",
        "    ROUND(AVG(vol_gaz), 2) AS avg_check_in_l_gaz,\\\n",
        "    ROUND(AVG(vol_diesel), 2) AS avg_check_in_l_diesel,\\\n",
        "    ROUND(AVG(vol_other), 2) AS avg_check_in_l_other\\\n",
        "    FROM pet_chk_20_pet_chk_21\\\n",
        "    GROUP BY card_no, on_years),\\\n",
        "    \\\n",
        "    s2 AS (SELECT sex_mf, card_no\\\n",
        "    FROM clients_info)\\\n",
        "    \\\n",
        "    SELECT s1.card_no,\\\n",
        "    s2.sex_mf,\\\n",
        "    s1.on_years,\\\n",
        "    s1.avg_check_in_l_ai92,\\\n",
        "    s1.avg_check_in_l_ai95,\\\n",
        "    s1.avg_check_in_l_ai98,\\\n",
        "    s1.avg_check_in_l_gaz,\\\n",
        "    s1.avg_check_in_l_diesel,\\\n",
        "    s1.avg_check_in_l_other\\\n",
        "    FROM s1\\\n",
        "    JOIN s2 ON s1.card_no=s2.card_no\\\n",
        "    WHERE on_years = '2021'\"\n",
        "    ).show()"
      ],
      "metadata": {
        "colab": {
          "base_uri": "https://localhost:8080/"
        },
        "id": "L1nYpJUip--r",
        "outputId": "6dbe8d54-ae96-4ea9-e2e9-66faa88c68ab"
      },
      "execution_count": null,
      "outputs": [
        {
          "output_type": "stream",
          "name": "stdout",
          "text": [
            "+-------+------+--------+-------------------+-------------------+-------------------+------------------+---------------------+--------------------+\n",
            "|card_no|sex_mf|on_years|avg_check_in_l_ai92|avg_check_in_l_ai95|avg_check_in_l_ai98|avg_check_in_l_gaz|avg_check_in_l_diesel|avg_check_in_l_other|\n",
            "+-------+------+--------+-------------------+-------------------+-------------------+------------------+---------------------+--------------------+\n",
            "|2675363|  male|    2021|               45.0|              45.67|               50.0|              30.0|                 null|                null|\n",
            "|2675362|female|    2021|               50.0|               null|               null|              null|                 null|                null|\n",
            "|2675358|female|    2021|              29.89|              54.11|              51.67|              null|                 35.0|                30.0|\n",
            "|2675359|female|    2021|               null|               null|               null|              null|                 40.0|                30.0|\n",
            "|2675361|  male|    2021|               20.0|               null|               null|              null|                 null|                null|\n",
            "|2675360|female|    2021|               null|               null|               null|              30.0|                 null|                null|\n",
            "+-------+------+--------+-------------------+-------------------+-------------------+------------------+---------------------+--------------------+\n",
            "\n"
          ]
        }
      ]
    },
    {
      "cell_type": "markdown",
      "source": [
        "**3)\tВыгрузить распределение количества чеков по клиентам программы лояльности шагом в 50 литров в январе 2021 года.**"
      ],
      "metadata": {
        "id": "oMOtqCa1bJkh"
      }
    },
    {
      "cell_type": "code",
      "source": [
        "spark.sql(\n",
        "    \"SELECT card_no,\\\n",
        "    ROUND(COUNT(vol_ai92)/SUM(vol_ai92)/50, 4) AS ct_check_50_l_ai92,\\\n",
        "    ROUND(COUNT(vol_ai95)/SUM(vol_ai95)/50, 4) AS ct_check_50_l_ai95,\\\n",
        "    ROUND(COUNT(vol_ai98)/SUM(vol_ai98)/50, 4) AS ct_check_50_l_ai98,\\\n",
        "    ROUND(COUNT(vol_gaz)/SUM(vol_gaz)/50, 4) AS ct_check_50_l_gaz,\\\n",
        "    ROUND(COUNT(vol_diesel)/SUM(vol_diesel)/50, 4) AS ct_check_50_l_diesel,\\\n",
        "    ROUND(COUNT(vol_other)/SUM(vol_other)/50, 4) AS ct_check_50_l_other\\\n",
        "    FROM pet_chk_20_pet_chk_21\\\n",
        "    WHERE (CAST(operation_date AS date) BETWEEN '2021-01-01' AND '2021-01-31')\\\n",
        "    GROUP BY card_no\"\n",
        "    ).show()"
      ],
      "metadata": {
        "colab": {
          "base_uri": "https://localhost:8080/"
        },
        "id": "oIBsFnu0IVJq",
        "outputId": "c07d454d-1b05-47c1-9947-6d79f0dd02c7"
      },
      "execution_count": null,
      "outputs": [
        {
          "output_type": "stream",
          "name": "stdout",
          "text": [
            "+-------+------------------+------------------+------------------+-----------------+--------------------+-------------------+\n",
            "|card_no|ct_check_50_l_ai92|ct_check_50_l_ai95|ct_check_50_l_ai98|ct_check_50_l_gaz|ct_check_50_l_diesel|ct_check_50_l_other|\n",
            "+-------+------------------+------------------+------------------+-----------------+--------------------+-------------------+\n",
            "|2675363|            4.0E-4|            4.0E-4|            4.0E-4|           7.0E-4|                null|               null|\n",
            "|2675361|             0.001|              null|              null|             null|                null|               null|\n",
            "|2675368|            5.0E-4|            4.0E-4|              null|             null|                null|               null|\n",
            "|2675360|              null|              null|              null|           7.0E-4|                null|               null|\n",
            "|2675362|            4.0E-4|              null|              null|             null|                null|               null|\n",
            "|2675367|              null|              null|              null|           5.0E-4|                null|               null|\n",
            "|2675365|              null|              null|              null|             null|                null|             4.0E-4|\n",
            "|2675366|              null|              null|              null|             null|              5.0E-4|               null|\n",
            "|2675364|              null|              null|            4.0E-4|             null|                null|               null|\n",
            "|2675358|            7.0E-4|            4.0E-4|            4.0E-4|             null|              7.0E-4|             7.0E-4|\n",
            "|2675359|              null|              null|              null|             null|              5.0E-4|             7.0E-4|\n",
            "+-------+------------------+------------------+------------------+-----------------+--------------------+-------------------+\n",
            "\n"
          ]
        }
      ]
    },
    {
      "cell_type": "code",
      "source": [],
      "metadata": {
        "id": "iH75x0qSfnxr"
      },
      "execution_count": null,
      "outputs": []
    }
  ]
}